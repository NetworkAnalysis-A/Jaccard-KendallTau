{
  "nbformat": 4,
  "nbformat_minor": 0,
  "metadata": {
    "colab": {
      "name": "Hamsterer.ipynb",
      "version": "0.3.2",
      "provenance": [],
      "collapsed_sections": [
        "slmBgT_fdBFq",
        "yqJ861R0elDb",
        "4f8CLM-BdLLe",
        "hcnKoiQidiCj",
        "lPgH3ilJdoy2",
        "ndPsAyP9yR0s",
        "FWcA2qIsWQsp",
        "QlioZXawWjvk",
        "8uzhqyNlaHoj",
        "ZwONLFdra_W-",
        "NzBkG4rxa_Xl",
        "0h2NXG3ka_YE",
        "O0CL8dC7a_Y0",
        "uFqefujo0RIq",
        "V-WX--CCeQfM",
        "teR-7wd3e7ru",
        "fTeq2IXFiSX0",
        "mBopp4s7i5K8",
        "QVCLHnH4i_NN",
        "b6Ju0DkhT1U8",
        "W8dn5zRfDwea",
        "_f9infGvGB2v",
        "Gc8vQAgxJr9n",
        "leX78BF6a8Td",
        "vPBgqIpELCVr",
        "dcqaFLm4LCWJ",
        "g-GrCtE_LCWi"
      ],
      "toc_visible": true
    },
    "kernelspec": {
      "name": "python3",
      "display_name": "Python 3"
    },
    "accelerator": "GPU"
  },
  "cells": [
    {
      "cell_type": "markdown",
      "metadata": {
        "id": "slmBgT_fdBFq",
        "colab_type": "text"
      },
      "source": [
        "## Preloaded"
      ]
    },
    {
      "cell_type": "code",
      "metadata": {
        "id": "fffqRUZMsOrj",
        "colab_type": "code",
        "outputId": "3e6aaced-927f-45e3-ae50-d63bc82bd815",
        "colab": {
          "base_uri": "https://localhost:8080/",
          "height": 608
        }
      },
      "source": [
        "!pip3 install networkit"
      ],
      "execution_count": 0,
      "outputs": [
        {
          "output_type": "stream",
          "text": [
            "Collecting networkit\n",
            "\u001b[?25l  Downloading https://files.pythonhosted.org/packages/60/7e/0a72676159f1b5cd7664bc99742f13ecb38e461de7fef8f75cc86c011b68/networkit-5.0.1.tar.gz (1.2MB)\n",
            "\u001b[K     |████████████████████████████████| 1.2MB 2.7MB/s \n",
            "\u001b[?25hRequirement already satisfied: scipy in /usr/local/lib/python3.6/dist-packages (from networkit) (1.3.0)\n",
            "Requirement already satisfied: matplotlib in /usr/local/lib/python3.6/dist-packages (from networkit) (3.0.3)\n",
            "Requirement already satisfied: pandas in /usr/local/lib/python3.6/dist-packages (from networkit) (0.24.2)\n",
            "Requirement already satisfied: numpy in /usr/local/lib/python3.6/dist-packages (from networkit) (1.16.4)\n",
            "Requirement already satisfied: networkx in /usr/local/lib/python3.6/dist-packages (from networkit) (2.3)\n",
            "Requirement already satisfied: tabulate in /usr/local/lib/python3.6/dist-packages (from networkit) (0.8.3)\n",
            "Requirement already satisfied: ipython in /usr/local/lib/python3.6/dist-packages (from networkit) (5.5.0)\n",
            "Requirement already satisfied: pyparsing!=2.0.4,!=2.1.2,!=2.1.6,>=2.0.1 in /usr/local/lib/python3.6/dist-packages (from matplotlib->networkit) (2.4.2)\n",
            "Requirement already satisfied: cycler>=0.10 in /usr/local/lib/python3.6/dist-packages (from matplotlib->networkit) (0.10.0)\n",
            "Requirement already satisfied: python-dateutil>=2.1 in /usr/local/lib/python3.6/dist-packages (from matplotlib->networkit) (2.5.3)\n",
            "Requirement already satisfied: kiwisolver>=1.0.1 in /usr/local/lib/python3.6/dist-packages (from matplotlib->networkit) (1.1.0)\n",
            "Requirement already satisfied: pytz>=2011k in /usr/local/lib/python3.6/dist-packages (from pandas->networkit) (2018.9)\n",
            "Requirement already satisfied: decorator>=4.3.0 in /usr/local/lib/python3.6/dist-packages (from networkx->networkit) (4.4.0)\n",
            "Requirement already satisfied: setuptools>=18.5 in /usr/local/lib/python3.6/dist-packages (from ipython->networkit) (41.0.1)\n",
            "Requirement already satisfied: pygments in /usr/local/lib/python3.6/dist-packages (from ipython->networkit) (2.1.3)\n",
            "Requirement already satisfied: prompt-toolkit<2.0.0,>=1.0.4 in /usr/local/lib/python3.6/dist-packages (from ipython->networkit) (1.0.16)\n",
            "Requirement already satisfied: pexpect; sys_platform != \"win32\" in /usr/local/lib/python3.6/dist-packages (from ipython->networkit) (4.7.0)\n",
            "Requirement already satisfied: pickleshare in /usr/local/lib/python3.6/dist-packages (from ipython->networkit) (0.7.5)\n",
            "Requirement already satisfied: traitlets>=4.2 in /usr/local/lib/python3.6/dist-packages (from ipython->networkit) (4.3.2)\n",
            "Requirement already satisfied: simplegeneric>0.8 in /usr/local/lib/python3.6/dist-packages (from ipython->networkit) (0.8.1)\n",
            "Requirement already satisfied: six in /usr/local/lib/python3.6/dist-packages (from cycler>=0.10->matplotlib->networkit) (1.12.0)\n",
            "Requirement already satisfied: wcwidth in /usr/local/lib/python3.6/dist-packages (from prompt-toolkit<2.0.0,>=1.0.4->ipython->networkit) (0.1.7)\n",
            "Requirement already satisfied: ptyprocess>=0.5 in /usr/local/lib/python3.6/dist-packages (from pexpect; sys_platform != \"win32\"->ipython->networkit) (0.6.0)\n",
            "Requirement already satisfied: ipython-genutils in /usr/local/lib/python3.6/dist-packages (from traitlets>=4.2->ipython->networkit) (0.2.0)\n",
            "Building wheels for collected packages: networkit\n",
            "  Building wheel for networkit (setup.py) ... \u001b[?25l\u001b[?25hdone\n",
            "  Created wheel for networkit: filename=networkit-5.0.1-cp36-cp36m-linux_x86_64.whl size=7120732 sha256=f22384861edb71d1f8fe2583223f7fb277022a58df035a94333cce0bb5fc2f6d\n",
            "  Stored in directory: /root/.cache/pip/wheels/8c/c7/c8/5e7247f1ff3539c7517dff48774172cd9d202ba4452eed0bd9\n",
            "Successfully built networkit\n",
            "Installing collected packages: networkit\n",
            "Successfully installed networkit-5.0.1\n"
          ],
          "name": "stdout"
        }
      ]
    },
    {
      "cell_type": "code",
      "metadata": {
        "id": "Vnlwrqpu-NOw",
        "colab_type": "code",
        "outputId": "68c8f6e4-6566-473f-bf86-ee8c29b98a99",
        "colab": {
          "base_uri": "https://localhost:8080/",
          "height": 17
        }
      },
      "source": [
        "from collections import namedtuple\n",
        "from functools import wraps\n",
        "from math import ceil, floor\n",
        "from random import sample, randint\n",
        "from scipy.stats import kendalltau\n",
        "import networkx as nx\n",
        "import networkit as nk\n",
        "import numpy as np\n",
        "import os\n",
        "from functools import partial\n",
        "import matplotlib.pyplot as plt\n",
        "%matplotlib inline\n",
        "from networkit import *\n",
        "import pandas as pd"
      ],
      "execution_count": 0,
      "outputs": [
        {
          "output_type": "display_data",
          "data": {
            "text/html": [
              "\n",
              "\t\t\t<script type=\"text/javascript\">\n",
              "\t\t\t<!--\n",
              "\t\t\t\t\n",
              "\t\t\t{\n",
              "\t\t\t\tvar element = document.getElementById('NetworKit_script');\n",
              "\t\t\t\tif (element) {\n",
              "\t\t\t\t\telement.parentNode.removeChild(element);\n",
              "\t\t\t\t}\n",
              "\t\t\t\telement = document.createElement('script');\n",
              "\t\t\t\telement.type = 'text/javascript';\n",
              "\t\t\t\telement.innerHTML = 'function NetworKit_pageEmbed(id) { var i, j; var elements; elements = document.getElementById(id).getElementsByClassName(\"Plot\"); for (i=0; i<elements.length; i++) { elements[i].id = id + \"_Plot_\" + i; var data = elements[i].getAttribute(\"data-image\").split(\"|\"); elements[i].removeAttribute(\"data-image\"); var content = \"<div class=\\\\\"Image\\\\\" id=\\\\\"\" + elements[i].id + \"_Image\\\\\" />\"; elements[i].innerHTML = content; elements[i].setAttribute(\"data-image-index\", 0); elements[i].setAttribute(\"data-image-length\", data.length); for (j=0; j<data.length; j++) { elements[i].setAttribute(\"data-image-\" + j, data[j]); } NetworKit_plotUpdate(elements[i]); elements[i].onclick = function (e) { NetworKit_overlayShow((e.target) ? e.target : e.srcElement); } } elements = document.getElementById(id).getElementsByClassName(\"HeatCell\"); for (i=0; i<elements.length; i++) { var data = parseFloat(elements[i].getAttribute(\"data-heat\")); var color = \"#00FF00\"; if (data <= 1 && data > 0) { color = \"hsla(0, 100%, 75%, \" + (data) + \")\"; } else if (data <= 0 && data >= -1) { color = \"hsla(240, 100%, 75%, \" + (-data) + \")\"; } elements[i].style.backgroundColor = color; } elements = document.getElementById(id).getElementsByClassName(\"Details\"); for (i=0; i<elements.length; i++) { elements[i].setAttribute(\"data-title\", \"-\"); NetworKit_toggleDetails(elements[i]); elements[i].onclick = function (e) { NetworKit_toggleDetails((e.target) ? e.target : e.srcElement); } } elements = document.getElementById(id).getElementsByClassName(\"MathValue\"); for (i=elements.length-1; i>=0; i--) { value = elements[i].innerHTML.trim(); if (value === \"nan\") { elements[i].parentNode.innerHTML = \"\" } } elements = document.getElementById(id).getElementsByClassName(\"SubCategory\"); for (i=elements.length-1; i>=0; i--) { value = elements[i].innerHTML.trim(); if (value === \"\") { elements[i].parentNode.removeChild(elements[i]) } } elements = document.getElementById(id).getElementsByClassName(\"Category\"); for (i=elements.length-1; i>=0; i--) { value = elements[i].innerHTML.trim(); if (value === \"\") { elements[i].parentNode.removeChild(elements[i]) } } var isFirefox = false; try { isFirefox = typeof InstallTrigger !== \"undefined\"; } catch (e) {} if (!isFirefox) { alert(\"Currently the function\\'s output is only fully supported by Firefox.\"); } } function NetworKit_plotUpdate(source) { var index = source.getAttribute(\"data-image-index\"); var data = source.getAttribute(\"data-image-\" + index); var image = document.getElementById(source.id + \"_Image\"); image.style.backgroundImage = \"url(\" + data + \")\"; } function NetworKit_showElement(id, show) { var element = document.getElementById(id); element.style.display = (show) ? \"block\" : \"none\"; } function NetworKit_overlayShow(source) { NetworKit_overlayUpdate(source); NetworKit_showElement(\"NetworKit_Overlay\", true); } function NetworKit_overlayUpdate(source) { document.getElementById(\"NetworKit_Overlay_Title\").innerHTML = source.title; var index = source.getAttribute(\"data-image-index\"); var data = source.getAttribute(\"data-image-\" + index); var image = document.getElementById(\"NetworKit_Overlay_Image\"); image.setAttribute(\"data-id\", source.id); image.style.backgroundImage = \"url(\" + data + \")\"; var link = document.getElementById(\"NetworKit_Overlay_Toolbar_Bottom_Save\"); link.href = data; link.download = source.title + \".svg\"; } function NetworKit_overlayImageShift(delta) { var image = document.getElementById(\"NetworKit_Overlay_Image\"); var source = document.getElementById(image.getAttribute(\"data-id\")); var index = parseInt(source.getAttribute(\"data-image-index\")); var length = parseInt(source.getAttribute(\"data-image-length\")); var index = (index+delta) % length; if (index < 0) { index = length + index; } source.setAttribute(\"data-image-index\", index); NetworKit_overlayUpdate(source); } function NetworKit_toggleDetails(source) { var childs = source.children; var show = false; if (source.getAttribute(\"data-title\") == \"-\") { source.setAttribute(\"data-title\", \"+\"); show = false; } else { source.setAttribute(\"data-title\", \"-\"); show = true; } for (i=0; i<childs.length; i++) { if (show) { childs[i].style.display = \"block\"; } else { childs[i].style.display = \"none\"; } } }';\n",
              "\t\t\t\telement.setAttribute('id', 'NetworKit_script');\n",
              "\t\t\t\tdocument.head.appendChild(element);\n",
              "\t\t\t}\n",
              "\t\t\n",
              "\t\t\t\t\n",
              "\t\t\t{\n",
              "\t\t\t\tvar element = document.getElementById('NetworKit_style');\n",
              "\t\t\t\tif (element) {\n",
              "\t\t\t\t\telement.parentNode.removeChild(element);\n",
              "\t\t\t\t}\n",
              "\t\t\t\telement = document.createElement('style');\n",
              "\t\t\t\telement.type = 'text/css';\n",
              "\t\t\t\telement.innerHTML = '.NetworKit_Page { font-family: Arial, Helvetica, sans-serif; font-size: 14px; } .NetworKit_Page .Value:before { font-family: Arial, Helvetica, sans-serif; font-size: 1.05em; content: attr(data-title) \":\"; margin-left: -2.5em; padding-right: 0.5em; } .NetworKit_Page .Details .Value:before { display: block; } .NetworKit_Page .Value { font-family: monospace; white-space: pre; padding-left: 2.5em; white-space: -moz-pre-wrap !important; white-space: -pre-wrap; white-space: -o-pre-wrap; white-space: pre-wrap; word-wrap: break-word; tab-size: 4; -moz-tab-size: 4; } .NetworKit_Page .Category { clear: both; padding-left: 1em; margin-bottom: 1.5em; } .NetworKit_Page .Category:before { content: attr(data-title); font-size: 1.75em; display: block; margin-left: -0.8em; margin-bottom: 0.5em; } .NetworKit_Page .SubCategory { margin-bottom: 1.5em; padding-left: 1em; } .NetworKit_Page .SubCategory:before { font-size: 1.6em; display: block; margin-left: -0.8em; margin-bottom: 0.5em; } .NetworKit_Page .SubCategory[data-title]:before { content: attr(data-title); } .NetworKit_Page .Block { display: block; } .NetworKit_Page .Block:after { content: \".\"; visibility: hidden; display: block; height: 0; clear: both; } .NetworKit_Page .Block .Thumbnail_Overview, .NetworKit_Page .Block .Thumbnail_ScatterPlot { width: 260px; float: left; } .NetworKit_Page .Block .Thumbnail_Overview img, .NetworKit_Page .Block .Thumbnail_ScatterPlot img { width: 260px; } .NetworKit_Page .Block .Thumbnail_Overview:before, .NetworKit_Page .Block .Thumbnail_ScatterPlot:before { display: block; text-align: center; font-weight: bold; } .NetworKit_Page .Block .Thumbnail_Overview:before { content: attr(data-title); } .NetworKit_Page .HeatCell { font-family: \"Courier New\", Courier, monospace; cursor: pointer; } .NetworKit_Page .HeatCell, .NetworKit_Page .HeatCellName { display: inline; padding: 0.1em; margin-right: 2px; background-color: #FFFFFF } .NetworKit_Page .HeatCellName { margin-left: 0.25em; } .NetworKit_Page .HeatCell:before { content: attr(data-heat); display: inline-block; color: #000000; width: 4em; text-align: center; } .NetworKit_Page .Measure { clear: both; } .NetworKit_Page .Measure .Details { cursor: pointer; } .NetworKit_Page .Measure .Details:before { content: \"[\" attr(data-title) \"]\"; display: block; } .NetworKit_Page .Measure .Details .Value { border-left: 1px dotted black; margin-left: 0.4em; padding-left: 3.5em; pointer-events: none; } .NetworKit_Page .Measure .Details .Spacer:before { content: \".\"; opacity: 0.0; pointer-events: none; } .NetworKit_Page .Measure .Plot { width: 440px; height: 440px; cursor: pointer; float: left; margin-left: -0.9em; margin-right: 20px; } .NetworKit_Page .Measure .Plot .Image { background-repeat: no-repeat; background-position: center center; background-size: contain; height: 100%; pointer-events: none; } .NetworKit_Page .Measure .Stat { width: 500px; float: left; } .NetworKit_Page .Measure .Stat .Group { padding-left: 1.25em; margin-bottom: 0.75em; } .NetworKit_Page .Measure .Stat .Group .Title { font-size: 1.1em; display: block; margin-bottom: 0.3em; margin-left: -0.75em; border-right-style: dotted; border-right-width: 1px; border-bottom-style: dotted; border-bottom-width: 1px; background-color: #D0D0D0; padding-left: 0.2em; } .NetworKit_Page .Measure .Stat .Group .List { -webkit-column-count: 3; -moz-column-count: 3; column-count: 3; } .NetworKit_Page .Measure .Stat .Group .List .Entry { position: relative; line-height: 1.75em; } .NetworKit_Page .Measure .Stat .Group .List .Entry[data-tooltip]:before { position: absolute; left: 0; top: -40px; background-color: #808080; color: #ffffff; height: 30px; line-height: 30px; border-radius: 5px; padding: 0 15px; content: attr(data-tooltip); white-space: nowrap; display: none; } .NetworKit_Page .Measure .Stat .Group .List .Entry[data-tooltip]:after { position: absolute; left: 15px; top: -10px; border-top: 7px solid #808080; border-left: 7px solid transparent; border-right: 7px solid transparent; content: \"\"; display: none; } .NetworKit_Page .Measure .Stat .Group .List .Entry[data-tooltip]:hover:after, .NetworKit_Page .Measure .Stat .Group .List .Entry[data-tooltip]:hover:before { display: block; } .NetworKit_Page .Measure .Stat .Group .List .Entry .MathValue { font-family: \"Courier New\", Courier, monospace; } .NetworKit_Page .Measure:after { content: \".\"; visibility: hidden; display: block; height: 0; clear: both; } .NetworKit_Page .PartitionPie { clear: both; } .NetworKit_Page .PartitionPie img { width: 600px; } #NetworKit_Overlay { left: 0px; top: 0px; display: none; position: absolute; width: 100%; height: 100%; background-color: rgba(0,0,0,0.6); z-index: 1000; } #NetworKit_Overlay_Title { position: absolute; color: white; transform: rotate(-90deg); width: 32em; height: 32em; padding-right: 0.5em; padding-top: 0.5em; text-align: right; font-size: 40px; } #NetworKit_Overlay .button { background: white; cursor: pointer; } #NetworKit_Overlay .button:before { size: 13px; display: inline-block; text-align: center; margin-top: 0.5em; margin-bottom: 0.5em; width: 1.5em; height: 1.5em; } #NetworKit_Overlay .icon-close:before { content: \"X\"; } #NetworKit_Overlay .icon-previous:before { content: \"P\"; } #NetworKit_Overlay .icon-next:before { content: \"N\"; } #NetworKit_Overlay .icon-save:before { content: \"S\"; } #NetworKit_Overlay_Toolbar_Top, #NetworKit_Overlay_Toolbar_Bottom { position: absolute; width: 40px; right: 13px; text-align: right; z-index: 1100; } #NetworKit_Overlay_Toolbar_Top { top: 0.5em; } #NetworKit_Overlay_Toolbar_Bottom { Bottom: 0.5em; } #NetworKit_Overlay_ImageContainer { position: absolute; top: 5%; left: 5%; height: 90%; width: 90%; background-repeat: no-repeat; background-position: center center; background-size: contain; } #NetworKit_Overlay_Image { height: 100%; width: 100%; background-repeat: no-repeat; background-position: center center; background-size: contain; }';\n",
              "\t\t\t\telement.setAttribute('id', 'NetworKit_style');\n",
              "\t\t\t\tdocument.head.appendChild(element);\n",
              "\t\t\t}\n",
              "\t\t\n",
              "\t\t\t\t\n",
              "\t\t\t{\n",
              "\t\t\t\tvar element = document.getElementById('NetworKit_Overlay');\n",
              "\t\t\t\tif (element) {\n",
              "\t\t\t\t\telement.parentNode.removeChild(element);\n",
              "\t\t\t\t}\n",
              "\t\t\t\telement = document.createElement('div');\n",
              "\t\t\t\telement.innerHTML = '<div id=\"NetworKit_Overlay_Toolbar_Top\"><div class=\"button icon-close\" id=\"NetworKit_Overlay_Close\" /></div><div id=\"NetworKit_Overlay_Title\" /> <div id=\"NetworKit_Overlay_ImageContainer\"> <div id=\"NetworKit_Overlay_Image\" /> </div> <div id=\"NetworKit_Overlay_Toolbar_Bottom\"> <div class=\"button icon-previous\" onclick=\"NetworKit_overlayImageShift(-1)\" /> <div class=\"button icon-next\" onclick=\"NetworKit_overlayImageShift(1)\" /> <a id=\"NetworKit_Overlay_Toolbar_Bottom_Save\"><div class=\"button icon-save\" /></a> </div>';\n",
              "\t\t\t\telement.setAttribute('id', 'NetworKit_Overlay');\n",
              "\t\t\t\tdocument.body.appendChild(element);\n",
              "\t\t\t\tdocument.getElementById('NetworKit_Overlay_Close').onclick = function (e) {\n",
              "\t\t\t\t\tdocument.getElementById('NetworKit_Overlay').style.display = 'none';\n",
              "\t\t\t\t}\n",
              "\t\t\t}\n",
              "\t\t\n",
              "\t\t\t-->\n",
              "\t\t\t</script>\n",
              "\t\t"
            ]
          },
          "metadata": {
            "tags": []
          }
        }
      ]
    },
    {
      "cell_type": "code",
      "metadata": {
        "colab_type": "code",
        "id": "4I58GjypJC3b",
        "colab": {}
      },
      "source": [
        "def nk_wrapper(nk_centrality, *args):\n",
        "  def f(g):\n",
        "    cm_values = nk_centrality(nk.nxadapter.nx2nk(g), *args).run().scores()\n",
        "    return dict(zip(g.nodes, cm_values))\n",
        "  f.__name__=nk_centrality.__name__\n",
        "  return f"
      ],
      "execution_count": 0,
      "outputs": []
    },
    {
      "cell_type": "markdown",
      "metadata": {
        "id": "yqJ861R0elDb",
        "colab_type": "text"
      },
      "source": [
        "## Jaccard"
      ]
    },
    {
      "cell_type": "code",
      "metadata": {
        "id": "PPftDTaw-Nk_",
        "colab_type": "code",
        "colab": {}
      },
      "source": [
        "#defintion jaccard sim\n",
        "\n",
        "def jaccard_similarity(list1, list2):\n",
        "    intersection = len(list(set(list1).intersection(list2)))\n",
        "    union = (len(list1) + len(list2)) - intersection\n",
        "    return float(intersection) / union"
      ],
      "execution_count": 0,
      "outputs": []
    },
    {
      "cell_type": "code",
      "metadata": {
        "id": "D3vlweipMJ1x",
        "colab_type": "code",
        "colab": {}
      },
      "source": [
        "def nk_wrapper(nk_centrality, *args):\n",
        "  def f(g):\n",
        "    cm_values = nk_centrality(nk.nxadapter.nx2nk(g), *args).run().scores()\n",
        "    return dict(zip(g.nodes, cm_values))\n",
        "  f.__name__=nk_centrality.__name__\n",
        "  return f"
      ],
      "execution_count": 0,
      "outputs": []
    },
    {
      "cell_type": "code",
      "metadata": {
        "id": "iuCXQ_QH-N2-",
        "colab_type": "code",
        "colab": {}
      },
      "source": [
        "# error formula\n",
        "\n",
        "def remove_edges_uniform(graph, alpha):\n",
        "    edges_to_remove = sample(graph.edges, ceil(graph.number_of_edges() * alpha))\n",
        "    new_g = graph.copy()\n",
        "\n",
        "    new_g.remove_edges_from(edges_to_remove)\n",
        "    return new_g\n",
        "\n",
        "\n",
        "def remove_nodes_uniform(graph, alpha):\n",
        "    nodes_to_keep = sample(graph.nodes, floor(graph.number_of_nodes() * (1 - alpha)))\n",
        "\n",
        "    return graph.subgraph(nodes_to_keep)\n",
        "\n",
        "\n",
        "def remove_edges_proportional_degree(mygraph, alpha):\n",
        "    new_g = mygraph.copy()\n",
        "\n",
        "    deg = nx.degree(mygraph)\n",
        "    degsum = np.array([deg[x] + deg[y] for x, y in mygraph.edges()])\n",
        "\n",
        "    np.random.seed(int.from_bytes(os.urandom(4), byteorder='big'))\n",
        "    edge_ids = np.random.choice(mygraph.number_of_edges(), size=ceil(mygraph.number_of_edges() * alpha),\n",
        "                                replace=False, p=degsum / degsum.sum())\n",
        "\n",
        "    edges_to_remove = np.array(mygraph.edges)[edge_ids, :]\n",
        "\n",
        "    new_g.remove_edges_from(edges_to_remove)\n",
        "    return new_g\n",
        "\n",
        "\n",
        "def add_edges_random(graph, alpha):\n",
        "    edges_to_add = ceil(graph.number_of_edges() * alpha)\n",
        "    new_G = graph.copy()\n",
        "    N = new_G.number_of_nodes()\n",
        "    edgelist = set([tuple(sorted(e)) for e in new_G.edges()])\n",
        "\n",
        "    cnt = 0\n",
        "    new_edges = set()\n",
        "\n",
        "    while cnt < edges_to_add:\n",
        "        new_edge = tuple(sorted([randint(0, N - 1), randint(0, N - 1)]))\n",
        "        if new_edge[0] == new_edge[1]:\n",
        "            continue\n",
        "        elif not (new_edge in edgelist or new_edge in new_edges):\n",
        "            new_edges.add(new_edge)\n",
        "            cnt += 1\n",
        "\n",
        "    new_G.add_edges_from(new_edges)\n",
        "    return new_G"
      ],
      "execution_count": 0,
      "outputs": []
    },
    {
      "cell_type": "markdown",
      "metadata": {
        "id": "4f8CLM-BdLLe",
        "colab_type": "text"
      },
      "source": [
        "## 2. Load in the network"
      ]
    },
    {
      "cell_type": "code",
      "metadata": {
        "id": "o2uKk5nsNfE5",
        "colab_type": "code",
        "colab": {}
      },
      "source": [
        "#read network in\n",
        "\n",
        "#with open('/content/drive/My Drive/out.petster-friendships-hamster-uniq') as f:\n",
        "  print(f.readlines()[:5])"
      ],
      "execution_count": 0,
      "outputs": []
    },
    {
      "cell_type": "code",
      "metadata": {
        "id": "qdB6306vK9oG",
        "colab_type": "code",
        "outputId": "e4eb1012-676f-451b-e7c8-712b3a575a04",
        "colab": {
          "base_uri": "https://localhost:8080/",
          "height": 34
        }
      },
      "source": [
        "#read network in\n",
        "\n",
        "with open(\"out.petster-friendships-hamster-uniq\") as f:\n",
        "  print(f.readlines()[:5])"
      ],
      "execution_count": 0,
      "outputs": [
        {
          "output_type": "stream",
          "text": [
            "['% sym unweighted\\n', '99 98\\n', '999 550\\n', '999 42\\n', '999 25\\n']\n"
          ],
          "name": "stdout"
        }
      ]
    },
    {
      "cell_type": "code",
      "metadata": {
        "id": "vAQ4LG2Yqfgy",
        "colab_type": "code",
        "colab": {}
      },
      "source": [
        "#interaction_graph = nx.read_edgelist(\"/out.petster-friendships-hamster-uniq\", create_using = nx.Graph(), comments = \"%\")\n",
        "interaction_graph = nx.read_edgelist(\"out.petster-friendships-hamster-uniq\", create_using = nx.Graph(), comments = \"%\")"
      ],
      "execution_count": 0,
      "outputs": []
    },
    {
      "cell_type": "code",
      "metadata": {
        "id": "FFv6sWx4-iiP",
        "colab_type": "code",
        "colab": {}
      },
      "source": [
        "connected_subgraph=max(nx.connected_component_subgraphs(interaction_graph), key=len)\n"
      ],
      "execution_count": 0,
      "outputs": []
    },
    {
      "cell_type": "code",
      "metadata": {
        "id": "mw3_AwxcTmGa",
        "colab_type": "code",
        "outputId": "af65dd74-c6ea-4e76-ee7e-a0d987ebbd78",
        "colab": {
          "base_uri": "https://localhost:8080/",
          "height": 34
        }
      },
      "source": [
        "nx.info(connected_subgraph)"
      ],
      "execution_count": 0,
      "outputs": [
        {
          "output_type": "execute_result",
          "data": {
            "text/plain": [
              "'Name: \\nType: Graph\\nNumber of nodes: 1788\\nNumber of edges: 12476\\nAverage degree:  13.9553'"
            ]
          },
          "metadata": {
            "tags": []
          },
          "execution_count": 14
        }
      ]
    },
    {
      "cell_type": "markdown",
      "metadata": {
        "id": "hcnKoiQidiCj",
        "colab_type": "text"
      },
      "source": [
        "## 3. Input"
      ]
    },
    {
      "cell_type": "code",
      "metadata": {
        "id": "TccTQON4-mC_",
        "colab_type": "code",
        "colab": {}
      },
      "source": [
        "#define input\n",
        "hidden_network=connected_subgraph\n",
        "alpha1=0.1\n",
        "alpha2=0.3\n",
        "error_measure_aer=partial(add_edges_random, alpha=alpha2) \n",
        "error_measure_reu=partial(remove_edges_uniform, alpha=alpha2)\n",
        "error_measure_repd=partial(remove_edges_proportional_degree, alpha=alpha2)\n",
        "error_measure_rnu=partial(remove_nodes_uniform, alpha=alpha2)\n",
        "centralityd=nk_wrapper(nk.centrality.DegreeCentrality, True)\n",
        "centralityb=nk_wrapper(nk.centrality.Betweenness)\n",
        "centralityc=nk_wrapper(nk.centrality.Closeness, True, True)\n",
        "#centralitye=nx.eigenvector_centrality\n",
        "centralitye=nk_wrapper(nk.centrality.EigenvectorCentrality)\n",
        "centralityp=nk_wrapper(nk.centrality.PageRank)\n"
      ],
      "execution_count": 0,
      "outputs": []
    },
    {
      "cell_type": "code",
      "metadata": {
        "id": "1uecip3K-n2n",
        "colab_type": "code",
        "colab": {}
      },
      "source": [
        "def robustness1(hidden_network,centrality,error_measure, iterations=100):\n",
        "    jaccard_values = []\n",
        "    for _ in range(iterations):\n",
        "        network_error_measure=error_measure(hidden_network)\n",
        "        network_error_measure_again = error_measure(network_error_measure)\n",
        "        network_measured_error_centrality =centrality(network_error_measure_again)\n",
        "        network_hidden_error_centrality = centrality(network_error_measure)\n",
        "        network_measured_top10 = np.array(sorted(network_measured_error_centrality.items(), key=lambda x: x[1], \n",
        "                                                reverse=True)[:int(len(network_measured_error_centrality)*0.1)])\n",
        "        network_hidden_top10 = np.array(sorted(network_hidden_error_centrality.items(), key=lambda x: x[1], \n",
        "                                              reverse=True)[:int(len(network_hidden_error_centrality)*0.1)])\n",
        "\n",
        "        jaccard_result = jaccard_similarity(network_measured_top10[:,0],network_hidden_top10[:,0])\n",
        "\n",
        "        jaccard_values.append(jaccard_result) \n",
        "\n",
        "    return namedtuple(\"robustness_actual\", \"mean, sd\")(np.mean(jaccard_values),\n",
        "                                                                np.std(jaccard_values))\n",
        "def robustness2(hidden_network,centrality,error_measure, iterations=100):\n",
        "    jaccard_values = []\n",
        "    for _ in range(iterations):\n",
        "        network_error_measure=error_measure(hidden_network)\n",
        "        network_error_measure_again = error_measure(network_error_measure)\n",
        "        network_measured_error_centrality =centrality(network_error_measure_again)\n",
        "        network_hidden_error_centrality = centrality(network_error_measure)\n",
        "        network_measured_top10 = np.array(sorted(network_measured_error_centrality.items(), key=lambda x: x[1], \n",
        "                                                reverse=True)[:int(len(network_measured_error_centrality)*0.1)])\n",
        "        network_hidden_top10 = np.array(sorted(network_hidden_error_centrality.items(), key=lambda x: x[1], \n",
        "                                              reverse=True)[:int(len(network_hidden_error_centrality)*0.1)])\n",
        "\n",
        "        jaccard_result = jaccard_similarity(network_measured_top10[:,0],network_hidden_top10[:,0])\n",
        "\n",
        "        jaccard_values.append(jaccard_result) \n",
        "\n",
        "    return namedtuple(\"robustness_estimate\", \"mean, sd\")(np.mean(jaccard_values),\n",
        "                                                                np.std(jaccard_values))"
      ],
      "execution_count": 0,
      "outputs": []
    },
    {
      "cell_type": "markdown",
      "metadata": {
        "id": "lPgH3ilJdoy2",
        "colab_type": "text"
      },
      "source": [
        "## 4. Code"
      ]
    },
    {
      "cell_type": "markdown",
      "metadata": {
        "id": "ndPsAyP9yR0s",
        "colab_type": "text"
      },
      "source": [
        "## add_edges_random 10 100"
      ]
    },
    {
      "cell_type": "code",
      "metadata": {
        "id": "KAIfHSTpPHOm",
        "colab_type": "code",
        "outputId": "b295248c-df02-4c7e-93df-9283d1ae0ad1",
        "colab": {
          "base_uri": "https://localhost:8080/",
          "height": 34
        }
      },
      "source": [
        "robustness1(hidden_network,centralityd,error_measure_aer,)"
      ],
      "execution_count": 0,
      "outputs": [
        {
          "output_type": "execute_result",
          "data": {
            "text/plain": [
              "robustness_actual(mean=0.7497318430324621, sd=0.003416791244088905)"
            ]
          },
          "metadata": {
            "tags": []
          },
          "execution_count": 22
        }
      ]
    },
    {
      "cell_type": "code",
      "metadata": {
        "id": "8PAtMGsbP_Dm",
        "colab_type": "code",
        "outputId": "4d5e32d8-67a0-47b7-b39a-20b95f11a797",
        "colab": {
          "base_uri": "https://localhost:8080/",
          "height": 34
        }
      },
      "source": [
        "robustness2(error_measure_aer(hidden_network),centralityd,error_measure_aer,)"
      ],
      "execution_count": 0,
      "outputs": [
        {
          "output_type": "execute_result",
          "data": {
            "text/plain": [
              "robustness_estimate(mean=0.8193505183298327, sd=0.0032067348396902277)"
            ]
          },
          "metadata": {
            "tags": []
          },
          "execution_count": 77
        }
      ]
    },
    {
      "cell_type": "code",
      "metadata": {
        "id": "KS19LS65U7xy",
        "colab_type": "code",
        "outputId": "656043d3-a51f-4278-9315-ba1c9c4b5ea1",
        "colab": {
          "base_uri": "https://localhost:8080/",
          "height": 34
        }
      },
      "source": [
        "robustness1(hidden_network,centralityb,error_measure_aer,)"
      ],
      "execution_count": 0,
      "outputs": [
        {
          "output_type": "execute_result",
          "data": {
            "text/plain": [
              "robustness_actual(mean=0.3725959853617982, sd=0.022179552875438716)"
            ]
          },
          "metadata": {
            "tags": []
          },
          "execution_count": 78
        }
      ]
    },
    {
      "cell_type": "code",
      "metadata": {
        "id": "hYixbqY_VBPL",
        "colab_type": "code",
        "outputId": "095c5fdf-d6ed-46e6-ba38-b212a5b45537",
        "colab": {
          "base_uri": "https://localhost:8080/",
          "height": 34
        }
      },
      "source": [
        "robustness2(error_measure_aer(hidden_network),centralityb,error_measure_aer,)"
      ],
      "execution_count": 0,
      "outputs": [
        {
          "output_type": "execute_result",
          "data": {
            "text/plain": [
              "robustness_estimate(mean=0.5221280938280244, sd=0.018426792800566156)"
            ]
          },
          "metadata": {
            "tags": []
          },
          "execution_count": 13
        }
      ]
    },
    {
      "cell_type": "code",
      "metadata": {
        "id": "kT0s44qxV5YH",
        "colab_type": "code",
        "outputId": "5ff391f5-5fe0-48eb-e63f-21d9dc275f8f",
        "colab": {
          "base_uri": "https://localhost:8080/",
          "height": 34
        }
      },
      "source": [
        "robustness1(hidden_network,centralityc,error_measure_aer,)"
      ],
      "execution_count": 0,
      "outputs": [
        {
          "output_type": "execute_result",
          "data": {
            "text/plain": [
              "robustness_actual(mean=0.7502414873854032, sd=0.0031782707587926524)"
            ]
          },
          "metadata": {
            "tags": []
          },
          "execution_count": 14
        }
      ]
    },
    {
      "cell_type": "code",
      "metadata": {
        "id": "RYs2l5lvV-Xt",
        "colab_type": "code",
        "outputId": "27696be2-2389-458f-a413-7ff8c43a701f",
        "colab": {
          "base_uri": "https://localhost:8080/",
          "height": 34
        }
      },
      "source": [
        "robustness2(error_measure_aer(hidden_network),centralityc,error_measure_aer,)"
      ],
      "execution_count": 0,
      "outputs": [
        {
          "output_type": "execute_result",
          "data": {
            "text/plain": [
              "robustness_estimate(mean=0.8200583062940798, sd=0.003110124888607971)"
            ]
          },
          "metadata": {
            "tags": []
          },
          "execution_count": 15
        }
      ]
    },
    {
      "cell_type": "code",
      "metadata": {
        "id": "JmRQZt3gWDg6",
        "colab_type": "code",
        "outputId": "2b77adc9-ceb9-400c-9326-f94f47238a52",
        "colab": {
          "base_uri": "https://localhost:8080/",
          "height": 34
        }
      },
      "source": [
        "robustness1(hidden_network,centralitye,error_measure_aer,)"
      ],
      "execution_count": 0,
      "outputs": [
        {
          "output_type": "execute_result",
          "data": {
            "text/plain": [
              "robustness_actual(mean=0.7500582133463211, sd=0.003388232418500961)"
            ]
          },
          "metadata": {
            "tags": []
          },
          "execution_count": 16
        }
      ]
    },
    {
      "cell_type": "code",
      "metadata": {
        "id": "PqlUNc80WFVZ",
        "colab_type": "code",
        "outputId": "7a0671a6-7603-4b4a-9383-7b58830ae79a",
        "colab": {
          "base_uri": "https://localhost:8080/",
          "height": 34
        }
      },
      "source": [
        "robustness2(error_measure_aer(hidden_network),centralitye,error_measure_aer,)"
      ],
      "execution_count": 0,
      "outputs": [
        {
          "output_type": "execute_result",
          "data": {
            "text/plain": [
              "robustness_estimate(mean=0.8194078878524843, sd=0.002783628352568849)"
            ]
          },
          "metadata": {
            "tags": []
          },
          "execution_count": 17
        }
      ]
    },
    {
      "cell_type": "code",
      "metadata": {
        "id": "6_B9Y4TzWHmu",
        "colab_type": "code",
        "outputId": "f12cf15a-a22f-482d-a5b9-8245f3a90903",
        "colab": {
          "base_uri": "https://localhost:8080/",
          "height": 34
        }
      },
      "source": [
        "robustness1(hidden_network,centralityp,error_measure_aer,)"
      ],
      "execution_count": 0,
      "outputs": [
        {
          "output_type": "execute_result",
          "data": {
            "text/plain": [
              "robustness_actual(mean=0.645895659707001, sd=0.014084296838966394)"
            ]
          },
          "metadata": {
            "tags": []
          },
          "execution_count": 23
        }
      ]
    },
    {
      "cell_type": "code",
      "metadata": {
        "id": "rePh4xmGWNeK",
        "colab_type": "code",
        "outputId": "14a1c489-423b-4244-f903-2a64b80ecd2f",
        "colab": {
          "base_uri": "https://localhost:8080/",
          "height": 34
        }
      },
      "source": [
        "robustness2(error_measure_aer(hidden_network),centralityp,error_measure_aer,)"
      ],
      "execution_count": 0,
      "outputs": [
        {
          "output_type": "execute_result",
          "data": {
            "text/plain": [
              "robustness_estimate(mean=0.6270721415907535, sd=0.015933967293243815)"
            ]
          },
          "metadata": {
            "tags": []
          },
          "execution_count": 21
        }
      ]
    },
    {
      "cell_type": "markdown",
      "metadata": {
        "id": "FWcA2qIsWQsp",
        "colab_type": "text"
      },
      "source": [
        "## remove_edges_uniform 10 100"
      ]
    },
    {
      "cell_type": "code",
      "metadata": {
        "colab_type": "code",
        "outputId": "e4f855e2-4c04-4f98-82ad-7153a1cfa12b",
        "id": "4GZ4truZWjvC",
        "colab": {
          "base_uri": "https://localhost:8080/",
          "height": 34
        }
      },
      "source": [
        "robustness1(hidden_network,centralityd,error_measure_reu,)"
      ],
      "execution_count": 0,
      "outputs": [
        {
          "output_type": "execute_result",
          "data": {
            "text/plain": [
              "robustness_actual(mean=0.9337481467093229, sd=0.01530085042765771)"
            ]
          },
          "metadata": {
            "tags": []
          },
          "execution_count": 22
        }
      ]
    },
    {
      "cell_type": "code",
      "metadata": {
        "colab_type": "code",
        "outputId": "e5553a14-bd04-4fa6-c61c-7bde95165232",
        "id": "BtqfJBfIWjvF",
        "colab": {
          "base_uri": "https://localhost:8080/",
          "height": 34
        }
      },
      "source": [
        "robustness2(error_measure_reu(hidden_network),centralityd,error_measure_reu,)"
      ],
      "execution_count": 0,
      "outputs": [
        {
          "output_type": "execute_result",
          "data": {
            "text/plain": [
              "robustness_estimate(mean=0.9363887979223776, sd=0.0160480122738406)"
            ]
          },
          "metadata": {
            "tags": []
          },
          "execution_count": 23
        }
      ]
    },
    {
      "cell_type": "code",
      "metadata": {
        "colab_type": "code",
        "id": "7z6k_w9SWjvH",
        "outputId": "5237e357-0013-48e4-d5f2-5418d6740abd",
        "colab": {
          "base_uri": "https://localhost:8080/",
          "height": 34
        }
      },
      "source": [
        "robustness1(hidden_network,centralityb,error_measure_reu,)"
      ],
      "execution_count": 0,
      "outputs": [
        {
          "output_type": "execute_result",
          "data": {
            "text/plain": [
              "robustness_actual(mean=0.8776629874483324, sd=0.02460862043025914)"
            ]
          },
          "metadata": {
            "tags": []
          },
          "execution_count": 24
        }
      ]
    },
    {
      "cell_type": "code",
      "metadata": {
        "colab_type": "code",
        "id": "5p8wXRqkWjvK",
        "outputId": "aaf055c9-23c9-4c50-8904-e73b9a1a3dc3",
        "colab": {
          "base_uri": "https://localhost:8080/",
          "height": 34
        }
      },
      "source": [
        "robustness2(error_measure_reu(hidden_network1),centralityb,error_measure_reu,)"
      ],
      "execution_count": 0,
      "outputs": [
        {
          "output_type": "execute_result",
          "data": {
            "text/plain": [
              "robustness_estimate(mean=0.8813221852186309, sd=0.02416026465493863)"
            ]
          },
          "metadata": {
            "tags": []
          },
          "execution_count": 25
        }
      ]
    },
    {
      "cell_type": "code",
      "metadata": {
        "colab_type": "code",
        "id": "IP_C0lZfWjvN",
        "outputId": "24c8e6d9-597a-4378-ca27-a167cc64c6c5",
        "colab": {
          "base_uri": "https://localhost:8080/",
          "height": 34
        }
      },
      "source": [
        "robustness1(hidden_network,centralityc,error_measure_reu,)"
      ],
      "execution_count": 0,
      "outputs": [
        {
          "output_type": "execute_result",
          "data": {
            "text/plain": [
              "robustness_actual(mean=0.911227363087431, sd=0.020897203829298498)"
            ]
          },
          "metadata": {
            "tags": []
          },
          "execution_count": 26
        }
      ]
    },
    {
      "cell_type": "code",
      "metadata": {
        "colab_type": "code",
        "id": "3y19c7nsWjvR",
        "outputId": "353fa97c-43bf-498a-83d4-cc8cb098d684",
        "colab": {
          "base_uri": "https://localhost:8080/",
          "height": 34
        }
      },
      "source": [
        "robustness2(error_measure_reu(hidden_network),centralityc,error_measure_reu,)"
      ],
      "execution_count": 0,
      "outputs": [
        {
          "output_type": "execute_result",
          "data": {
            "text/plain": [
              "robustness_estimate(mean=0.8991976495730318, sd=0.02075795916577129)"
            ]
          },
          "metadata": {
            "tags": []
          },
          "execution_count": 27
        }
      ]
    },
    {
      "cell_type": "code",
      "metadata": {
        "colab_type": "code",
        "id": "qA2oXS0FWjvT",
        "outputId": "2c20ba01-7d9b-4f56-916a-6d3fc2ff9e8d",
        "colab": {
          "base_uri": "https://localhost:8080/",
          "height": 34
        }
      },
      "source": [
        "robustness1(hidden_network,centralitye,error_measure_reu,)"
      ],
      "execution_count": 0,
      "outputs": [
        {
          "output_type": "execute_result",
          "data": {
            "text/plain": [
              "robustness_actual(mean=0.9050043534028468, sd=0.021435420938643777)"
            ]
          },
          "metadata": {
            "tags": []
          },
          "execution_count": 28
        }
      ]
    },
    {
      "cell_type": "code",
      "metadata": {
        "colab_type": "code",
        "id": "rw_9QjlrWjvW",
        "outputId": "c5e8fbd8-5425-41bd-92a1-4937c322b4bc",
        "colab": {
          "base_uri": "https://localhost:8080/",
          "height": 34
        }
      },
      "source": [
        "robustness2(error_measure_reu(hidden_network),centralitye,error_measure_reu,)"
      ],
      "execution_count": 0,
      "outputs": [
        {
          "output_type": "execute_result",
          "data": {
            "text/plain": [
              "robustness_estimate(mean=0.9007364680169981, sd=0.021575909558872886)"
            ]
          },
          "metadata": {
            "tags": []
          },
          "execution_count": 29
        }
      ]
    },
    {
      "cell_type": "code",
      "metadata": {
        "colab_type": "code",
        "id": "XM6VgXvQWjvZ",
        "outputId": "dc44c952-f7b1-4fb0-f9ed-16c1dee002b8",
        "colab": {
          "base_uri": "https://localhost:8080/",
          "height": 34
        }
      },
      "source": [
        "robustness1(hidden_network,centralityp,error_measure_reu,)"
      ],
      "execution_count": 0,
      "outputs": [
        {
          "output_type": "execute_result",
          "data": {
            "text/plain": [
              "robustness_actual(mean=0.9359001763422037, sd=0.018186251919698238)"
            ]
          },
          "metadata": {
            "tags": []
          },
          "execution_count": 30
        }
      ]
    },
    {
      "cell_type": "code",
      "metadata": {
        "colab_type": "code",
        "id": "TFy0xxEPWjvf",
        "outputId": "9e2b7c80-f447-4c45-d77e-b2550d2092c1",
        "colab": {
          "base_uri": "https://localhost:8080/",
          "height": 34
        }
      },
      "source": [
        "robustness2(error_measure_reu(hidden_network),centralityp,error_measure_reu,)"
      ],
      "execution_count": 0,
      "outputs": [
        {
          "output_type": "execute_result",
          "data": {
            "text/plain": [
              "robustness_estimate(mean=0.9363952669547524, sd=0.016409965296525966)"
            ]
          },
          "metadata": {
            "tags": []
          },
          "execution_count": 32
        }
      ]
    },
    {
      "cell_type": "markdown",
      "metadata": {
        "colab_type": "text",
        "id": "QlioZXawWjvk"
      },
      "source": [
        "## remove_edges_proportional_degree 10 100\n"
      ]
    },
    {
      "cell_type": "code",
      "metadata": {
        "colab_type": "code",
        "outputId": "28c08b7e-6477-4011-b1b1-4ef71d9422be",
        "id": "QdcuJkupX_Vj",
        "colab": {
          "base_uri": "https://localhost:8080/",
          "height": 34
        }
      },
      "source": [
        "robustness1(hidden_network,centralityd,error_measure_repd,)"
      ],
      "execution_count": 0,
      "outputs": [
        {
          "output_type": "execute_result",
          "data": {
            "text/plain": [
              "robustness_actual(mean=0.9290921559706549, sd=0.018627254129910814)"
            ]
          },
          "metadata": {
            "tags": []
          },
          "execution_count": 18
        }
      ]
    },
    {
      "cell_type": "code",
      "metadata": {
        "colab_type": "code",
        "outputId": "ac8654e2-4db4-4d9c-e7f4-9c61452ea91f",
        "id": "VbCQ-PvnX_Vr",
        "colab": {
          "base_uri": "https://localhost:8080/",
          "height": 34
        }
      },
      "source": [
        "robustness2(error_measure_repd(hidden_network1),centralityd,error_measure_repd,)"
      ],
      "execution_count": 0,
      "outputs": [
        {
          "output_type": "execute_result",
          "data": {
            "text/plain": [
              "robustness_estimate(mean=0.9308379934270063, sd=0.016887392545819283)"
            ]
          },
          "metadata": {
            "tags": []
          },
          "execution_count": 19
        }
      ]
    },
    {
      "cell_type": "code",
      "metadata": {
        "colab_type": "code",
        "id": "rFAOXoKHX_Vv",
        "outputId": "443ab278-51c3-4d1e-ece8-c0053f4e33a0",
        "colab": {
          "base_uri": "https://localhost:8080/",
          "height": 34
        }
      },
      "source": [
        "robustness1(hidden_network,centralityb,error_measure_repd,)"
      ],
      "execution_count": 0,
      "outputs": [
        {
          "output_type": "execute_result",
          "data": {
            "text/plain": [
              "robustness_actual(mean=0.9084311290074034, sd=0.019385065172385037)"
            ]
          },
          "metadata": {
            "tags": []
          },
          "execution_count": 20
        }
      ]
    },
    {
      "cell_type": "code",
      "metadata": {
        "colab_type": "code",
        "id": "mOcrg-ufX_V3",
        "outputId": "1ae4423a-964f-44f8-a95b-afd088aa2d42",
        "colab": {
          "base_uri": "https://localhost:8080/",
          "height": 34
        }
      },
      "source": [
        "robustness2(error_measure_repd(hidden_network),centralityb,error_measure_repd,)"
      ],
      "execution_count": 0,
      "outputs": [
        {
          "output_type": "execute_result",
          "data": {
            "text/plain": [
              "robustness_estimate(mean=0.9031677281400532, sd=0.021242090124685434)"
            ]
          },
          "metadata": {
            "tags": []
          },
          "execution_count": 21
        }
      ]
    },
    {
      "cell_type": "code",
      "metadata": {
        "colab_type": "code",
        "id": "9SG2UDATX_V9",
        "outputId": "00a57d78-0a44-47fa-b3e0-3731312e74a0",
        "colab": {
          "base_uri": "https://localhost:8080/",
          "height": 34
        }
      },
      "source": [
        "robustness1(hidden_network,centralityc,error_measure_repd,)"
      ],
      "execution_count": 0,
      "outputs": [
        {
          "output_type": "execute_result",
          "data": {
            "text/plain": [
              "robustness_actual(mean=0.8711844551401012, sd=0.02199021155164268)"
            ]
          },
          "metadata": {
            "tags": []
          },
          "execution_count": 22
        }
      ]
    },
    {
      "cell_type": "code",
      "metadata": {
        "colab_type": "code",
        "id": "Vwn9tYcEX_V_",
        "outputId": "4452f6e9-d98f-43cb-8a8d-66f7759a188d",
        "colab": {
          "base_uri": "https://localhost:8080/",
          "height": 34
        }
      },
      "source": [
        "robustness2(error_measure_repd(hidden_network),centralityc,error_measure_repd,)"
      ],
      "execution_count": 0,
      "outputs": [
        {
          "output_type": "execute_result",
          "data": {
            "text/plain": [
              "robustness_estimate(mean=0.8686000967316084, sd=0.020558741187569656)"
            ]
          },
          "metadata": {
            "tags": []
          },
          "execution_count": 24
        }
      ]
    },
    {
      "cell_type": "code",
      "metadata": {
        "colab_type": "code",
        "id": "4MtF2Gs5X_WD",
        "outputId": "40a7c208-7b72-46fb-b63d-bd6614670748",
        "colab": {
          "base_uri": "https://localhost:8080/",
          "height": 34
        }
      },
      "source": [
        "robustness1(hidden_network,centralitye,error_measure_repd,)"
      ],
      "execution_count": 0,
      "outputs": [
        {
          "output_type": "execute_result",
          "data": {
            "text/plain": [
              "robustness_actual(mean=0.8807751114766095, sd=0.022127303971765603)"
            ]
          },
          "metadata": {
            "tags": []
          },
          "execution_count": 23
        }
      ]
    },
    {
      "cell_type": "code",
      "metadata": {
        "colab_type": "code",
        "id": "ZBu7VxL4X_WH",
        "outputId": "025e89c9-7f5f-4894-c41c-addaefc4b584",
        "colab": {
          "base_uri": "https://localhost:8080/",
          "height": 34
        }
      },
      "source": [
        "robustness2(error_measure_repd(hidden_network),centralitye,error_measure_repd,)"
      ],
      "execution_count": 0,
      "outputs": [
        {
          "output_type": "execute_result",
          "data": {
            "text/plain": [
              "robustness_estimate(mean=0.889111153285541, sd=0.02021742802385381)"
            ]
          },
          "metadata": {
            "tags": []
          },
          "execution_count": 25
        }
      ]
    },
    {
      "cell_type": "code",
      "metadata": {
        "colab_type": "code",
        "id": "GxbtNV9DX_WJ",
        "outputId": "f48f5b53-b7c8-4a2e-b5b7-9f53b172c184",
        "colab": {
          "base_uri": "https://localhost:8080/",
          "height": 34
        }
      },
      "source": [
        "robustness1(hidden_network,centralityp,error_measure_repd,)"
      ],
      "execution_count": 0,
      "outputs": [
        {
          "output_type": "execute_result",
          "data": {
            "text/plain": [
              "robustness_actual(mean=0.9351182350328768, sd=0.015544430228471354)"
            ]
          },
          "metadata": {
            "tags": []
          },
          "execution_count": 26
        }
      ]
    },
    {
      "cell_type": "code",
      "metadata": {
        "colab_type": "code",
        "id": "5mu-nPRDX_WP",
        "outputId": "ba8a4558-b87e-4c35-9e6b-f1bbd4a3c032",
        "colab": {
          "base_uri": "https://localhost:8080/",
          "height": 34
        }
      },
      "source": [
        "robustness2(error_measure_repd(hidden_network),centralityp,error_measure_repd,)"
      ],
      "execution_count": 0,
      "outputs": [
        {
          "output_type": "execute_result",
          "data": {
            "text/plain": [
              "robustness_estimate(mean=0.9335699447060928, sd=0.017205630751079736)"
            ]
          },
          "metadata": {
            "tags": []
          },
          "execution_count": 27
        }
      ]
    },
    {
      "cell_type": "markdown",
      "metadata": {
        "colab_type": "text",
        "id": "8uzhqyNlaHoj"
      },
      "source": [
        "## remove_nodes_uniform 10 100"
      ]
    },
    {
      "cell_type": "code",
      "metadata": {
        "colab_type": "code",
        "outputId": "1a78610f-c37b-4899-f2bd-7898fef9f158",
        "id": "8Uk61gLBaHok",
        "colab": {
          "base_uri": "https://localhost:8080/",
          "height": 34
        }
      },
      "source": [
        "robustness1(hidden_network,centralityd,error_measure_rnu,)"
      ],
      "execution_count": 0,
      "outputs": [
        {
          "output_type": "execute_result",
          "data": {
            "text/plain": [
              "robustness_actual(mean=0.8415435727750432, sd=0.028970387952713048)"
            ]
          },
          "metadata": {
            "tags": []
          },
          "execution_count": 28
        }
      ]
    },
    {
      "cell_type": "code",
      "metadata": {
        "colab_type": "code",
        "outputId": "3a88b11d-2151-4e23-c316-217f50e5263a",
        "id": "vo7vwD7LaHon",
        "colab": {
          "base_uri": "https://localhost:8080/",
          "height": 34
        }
      },
      "source": [
        "robustness2(error_measure_rnu(hidden_network),centralityd,error_measure_rnu,)"
      ],
      "execution_count": 0,
      "outputs": [
        {
          "output_type": "execute_result",
          "data": {
            "text/plain": [
              "robustness_estimate(mean=0.8465378410393753, sd=0.03149385029607774)"
            ]
          },
          "metadata": {
            "tags": []
          },
          "execution_count": 29
        }
      ]
    },
    {
      "cell_type": "code",
      "metadata": {
        "colab_type": "code",
        "id": "rEU0BKN9aHou",
        "outputId": "b7cc94e0-be77-40e6-ee43-b668b24b6c78",
        "colab": {
          "base_uri": "https://localhost:8080/",
          "height": 34
        }
      },
      "source": [
        "robustness1(hidden_network,centralityb,error_measure_rnu,)"
      ],
      "execution_count": 0,
      "outputs": [
        {
          "output_type": "execute_result",
          "data": {
            "text/plain": [
              "robustness_actual(mean=0.7905847350294468, sd=0.0370081950263111)"
            ]
          },
          "metadata": {
            "tags": []
          },
          "execution_count": 30
        }
      ]
    },
    {
      "cell_type": "code",
      "metadata": {
        "colab_type": "code",
        "id": "Dk_toPbYaHow",
        "outputId": "69bf902b-f3d5-4f37-f877-ee6bc37afb3a",
        "colab": {
          "base_uri": "https://localhost:8080/",
          "height": 34
        }
      },
      "source": [
        "robustness2(error_measure_rnu(hidden_network),centralityb,error_measure_rnu,)"
      ],
      "execution_count": 0,
      "outputs": [
        {
          "output_type": "execute_result",
          "data": {
            "text/plain": [
              "robustness_estimate(mean=0.7784010462138852, sd=0.040134538101002294)"
            ]
          },
          "metadata": {
            "tags": []
          },
          "execution_count": 31
        }
      ]
    },
    {
      "cell_type": "code",
      "metadata": {
        "colab_type": "code",
        "id": "J3lRZmUUaHoz",
        "outputId": "25633358-1abc-41c8-cff3-5a89fbec4d53",
        "colab": {
          "base_uri": "https://localhost:8080/",
          "height": 34
        }
      },
      "source": [
        "robustness1(hidden_network,centralityc,error_measure_rnu,)"
      ],
      "execution_count": 0,
      "outputs": [
        {
          "output_type": "execute_result",
          "data": {
            "text/plain": [
              "robustness_actual(mean=0.8259461964569048, sd=0.04450905827034137)"
            ]
          },
          "metadata": {
            "tags": []
          },
          "execution_count": 32
        }
      ]
    },
    {
      "cell_type": "code",
      "metadata": {
        "colab_type": "code",
        "id": "-9148fvhaHpI",
        "outputId": "3870ef3a-75da-4a98-a8f8-b5e4f6a0bd96",
        "colab": {
          "base_uri": "https://localhost:8080/",
          "height": 34
        }
      },
      "source": [
        "robustness2(error_measure_rnu(hidden_network),centralityc,error_measure_rnu,)"
      ],
      "execution_count": 0,
      "outputs": [
        {
          "output_type": "execute_result",
          "data": {
            "text/plain": [
              "robustness_estimate(mean=0.8296358363356694, sd=0.05170912003708723)"
            ]
          },
          "metadata": {
            "tags": []
          },
          "execution_count": 33
        }
      ]
    },
    {
      "cell_type": "code",
      "metadata": {
        "colab_type": "code",
        "id": "1Ydr6jzvaHpJ",
        "outputId": "f25702b3-a035-4c68-d8d7-48bcde2e7aa4",
        "colab": {
          "base_uri": "https://localhost:8080/",
          "height": 34
        }
      },
      "source": [
        "robustness1(hidden_network,centralitye,error_measure_rnu,)"
      ],
      "execution_count": 0,
      "outputs": [
        {
          "output_type": "execute_result",
          "data": {
            "text/plain": [
              "robustness_actual(mean=0.818423808893368, sd=0.042008166031869125)"
            ]
          },
          "metadata": {
            "tags": []
          },
          "execution_count": 34
        }
      ]
    },
    {
      "cell_type": "code",
      "metadata": {
        "colab_type": "code",
        "id": "sIhKE_hIaHpL",
        "outputId": "69b6d4cd-db63-4b5f-a02c-ef9bc5ed0802",
        "colab": {
          "base_uri": "https://localhost:8080/",
          "height": 34
        }
      },
      "source": [
        "robustness2(error_measure_rnu(hidden_network),centralitye,error_measure_rnu,)"
      ],
      "execution_count": 0,
      "outputs": [
        {
          "output_type": "execute_result",
          "data": {
            "text/plain": [
              "robustness_estimate(mean=0.8247740613708966, sd=0.042945532293218916)"
            ]
          },
          "metadata": {
            "tags": []
          },
          "execution_count": 35
        }
      ]
    },
    {
      "cell_type": "code",
      "metadata": {
        "colab_type": "code",
        "id": "4y2OFO93aHpO",
        "outputId": "47f735a3-3fe4-4632-d41b-6df4034f06a5",
        "colab": {
          "base_uri": "https://localhost:8080/",
          "height": 34
        }
      },
      "source": [
        "robustness1(hidden_network,centralityp,error_measure_rnu,)"
      ],
      "execution_count": 0,
      "outputs": [
        {
          "output_type": "execute_result",
          "data": {
            "text/plain": [
              "robustness_actual(mean=0.8429260013678755, sd=0.03028000655017636)"
            ]
          },
          "metadata": {
            "tags": []
          },
          "execution_count": 36
        }
      ]
    },
    {
      "cell_type": "code",
      "metadata": {
        "colab_type": "code",
        "id": "vfAu_mREaHpR",
        "outputId": "ea5d155a-4c2d-46b9-d855-6bf56c0abd43",
        "colab": {
          "base_uri": "https://localhost:8080/",
          "height": 34
        }
      },
      "source": [
        "robustness2(error_measure_rnu(hidden_network),centralityp,error_measure_rnu,)"
      ],
      "execution_count": 0,
      "outputs": [
        {
          "output_type": "execute_result",
          "data": {
            "text/plain": [
              "robustness_estimate(mean=0.8429376246436804, sd=0.02789046154023033)"
            ]
          },
          "metadata": {
            "tags": []
          },
          "execution_count": 37
        }
      ]
    },
    {
      "cell_type": "code",
      "metadata": {
        "id": "KRNEKCwB4sNh",
        "colab_type": "code",
        "colab": {}
      },
      "source": [
        "alpha1=alpha2"
      ],
      "execution_count": 0,
      "outputs": []
    },
    {
      "cell_type": "markdown",
      "metadata": {
        "colab_type": "text",
        "id": "ZwONLFdra_W-"
      },
      "source": [
        "## add_edges_random 30 100 runs"
      ]
    },
    {
      "cell_type": "code",
      "metadata": {
        "colab_type": "code",
        "outputId": "e2e4c570-0671-4c6e-dae7-a64fe1834b52",
        "id": "ud6FdNDKa_XB",
        "colab": {
          "base_uri": "https://localhost:8080/",
          "height": 34
        }
      },
      "source": [
        "robustness1(hidden_network,centralityd,error_measure_aer,)"
      ],
      "execution_count": 0,
      "outputs": [
        {
          "output_type": "execute_result",
          "data": {
            "text/plain": [
              "robustness_actual(mean=0.6795437346127838, sd=0.001497443998825027)"
            ]
          },
          "metadata": {
            "tags": []
          },
          "execution_count": 84
        }
      ]
    },
    {
      "cell_type": "code",
      "metadata": {
        "colab_type": "code",
        "outputId": "671773f3-6a7f-4f44-fe9a-8b11490b98af",
        "id": "ZC3DQcpKa_XF",
        "colab": {
          "base_uri": "https://localhost:8080/",
          "height": 34
        }
      },
      "source": [
        "robustness2(error_measure_aer(hidden_network),centralityd,error_measure_aer,)"
      ],
      "execution_count": 0,
      "outputs": [
        {
          "output_type": "execute_result",
          "data": {
            "text/plain": [
              "robustness_estimate(mean=0.7579124122846648, sd=0.003298488167226517)"
            ]
          },
          "metadata": {
            "tags": []
          },
          "execution_count": 85
        }
      ]
    },
    {
      "cell_type": "code",
      "metadata": {
        "colab_type": "code",
        "id": "g8PLWcGra_XJ",
        "outputId": "98da1d2a-06a7-4263-f01f-f690fcac3990",
        "colab": {
          "base_uri": "https://localhost:8080/",
          "height": 34
        }
      },
      "source": [
        "robustness1(hidden_network,centralityb,error_measure_aer,)"
      ],
      "execution_count": 0,
      "outputs": [
        {
          "output_type": "execute_result",
          "data": {
            "text/plain": [
              "robustness_actual(mean=0.3966258988429263, sd=0.012950224803130645)"
            ]
          },
          "metadata": {
            "tags": []
          },
          "execution_count": 86
        }
      ]
    },
    {
      "cell_type": "code",
      "metadata": {
        "colab_type": "code",
        "id": "Kkkp-YDwa_XQ",
        "outputId": "931c415d-f52c-48e1-a84c-ddce4a1c351d",
        "colab": {
          "base_uri": "https://localhost:8080/",
          "height": 34
        }
      },
      "source": [
        "robustness2(error_measure_aer(hidden_network),centralityb,error_measure_aer,)"
      ],
      "execution_count": 0,
      "outputs": [
        {
          "output_type": "execute_result",
          "data": {
            "text/plain": [
              "robustness_estimate(mean=0.5300378139186867, sd=0.014880345954146458)"
            ]
          },
          "metadata": {
            "tags": []
          },
          "execution_count": 87
        }
      ]
    },
    {
      "cell_type": "code",
      "metadata": {
        "colab_type": "code",
        "id": "PdsMCCS-a_XS",
        "outputId": "c59bc08f-0239-42c2-8bd2-d73dd060903c",
        "colab": {
          "base_uri": "https://localhost:8080/",
          "height": 34
        }
      },
      "source": [
        "robustness1(hidden_network,centralityc,error_measure_aer,)"
      ],
      "execution_count": 0,
      "outputs": [
        {
          "output_type": "execute_result",
          "data": {
            "text/plain": [
              "robustness_actual(mean=0.13499868587750366, sd=0.011508808268583396)"
            ]
          },
          "metadata": {
            "tags": []
          },
          "execution_count": 88
        }
      ]
    },
    {
      "cell_type": "code",
      "metadata": {
        "colab_type": "code",
        "id": "u_ndTKRDa_XV",
        "outputId": "c5e6329d-703a-4f8e-b1e4-23ba58689061",
        "colab": {
          "base_uri": "https://localhost:8080/",
          "height": 34
        }
      },
      "source": [
        "robustness2(error_measure_aer(hidden_network),centralityc,error_measure_aer,)"
      ],
      "execution_count": 0,
      "outputs": [
        {
          "output_type": "execute_result",
          "data": {
            "text/plain": [
              "robustness_estimate(mean=0.0, sd=0.0)"
            ]
          },
          "metadata": {
            "tags": []
          },
          "execution_count": 17
        }
      ]
    },
    {
      "cell_type": "code",
      "metadata": {
        "colab_type": "code",
        "id": "I6HBaUeca_XX",
        "outputId": "23a80d11-5545-4890-cdbb-50a6e0ab3bc9",
        "colab": {
          "base_uri": "https://localhost:8080/",
          "height": 34
        }
      },
      "source": [
        "robustness1(hidden_network,centralitye,error_measure_aer,)"
      ],
      "execution_count": 0,
      "outputs": [
        {
          "output_type": "execute_result",
          "data": {
            "text/plain": [
              "robustness_actual(mean=0.6792759338410406, sd=0.0015590419497469496)"
            ]
          },
          "metadata": {
            "tags": []
          },
          "execution_count": 16
        }
      ]
    },
    {
      "cell_type": "code",
      "metadata": {
        "colab_type": "code",
        "id": "iUrDMvz0a_XY",
        "outputId": "55858cbf-df4d-4bb8-fd5a-a0ccd35ad01a",
        "colab": {
          "base_uri": "https://localhost:8080/",
          "height": 34
        }
      },
      "source": [
        "robustness2(error_measure_aer(hidden_network),centralitye,error_measure_aer,)"
      ],
      "execution_count": 0,
      "outputs": [
        {
          "output_type": "execute_result",
          "data": {
            "text/plain": [
              "robustness_estimate(mean=0.7620006241175621, sd=0.00146064464708162)"
            ]
          },
          "metadata": {
            "tags": []
          },
          "execution_count": 90
        }
      ]
    },
    {
      "cell_type": "code",
      "metadata": {
        "colab_type": "code",
        "id": "UdnVDPr7a_Xc",
        "outputId": "293e5c02-27f2-4ccf-fe05-b0f0a60d4ef5",
        "colab": {
          "base_uri": "https://localhost:8080/",
          "height": 34
        }
      },
      "source": [
        "robustness1(hidden_network,centralityp,error_measure_aer,)"
      ],
      "execution_count": 0,
      "outputs": [
        {
          "output_type": "execute_result",
          "data": {
            "text/plain": [
              "robustness_actual(mean=0.5571845774895292, sd=0.014449690162645462)"
            ]
          },
          "metadata": {
            "tags": []
          },
          "execution_count": 91
        }
      ]
    },
    {
      "cell_type": "code",
      "metadata": {
        "colab_type": "code",
        "id": "teAbIRFwa_Xh",
        "outputId": "a11b3460-17de-4ec3-86da-26bf53bec0b9",
        "colab": {
          "base_uri": "https://localhost:8080/",
          "height": 34
        }
      },
      "source": [
        "robustness2(error_measure_aer(hidden_network),centralityp,error_measure_aer,)"
      ],
      "execution_count": 0,
      "outputs": [
        {
          "output_type": "execute_result",
          "data": {
            "text/plain": [
              "robustness_estimate(mean=0.5651313360848829, sd=0.012002921476733234)"
            ]
          },
          "metadata": {
            "tags": []
          },
          "execution_count": 92
        }
      ]
    },
    {
      "cell_type": "markdown",
      "metadata": {
        "colab_type": "text",
        "id": "NzBkG4rxa_Xl"
      },
      "source": [
        "## remove_edges_uniform 30 100 runs"
      ]
    },
    {
      "cell_type": "code",
      "metadata": {
        "colab_type": "code",
        "outputId": "73ed92d0-d297-409e-82eb-2e963f83c2fd",
        "id": "dxC1jBbra_Xm",
        "colab": {
          "base_uri": "https://localhost:8080/",
          "height": 34
        }
      },
      "source": [
        "robustness1(hidden_network,centralityd,error_measure_reu,)"
      ],
      "execution_count": 0,
      "outputs": [
        {
          "output_type": "execute_result",
          "data": {
            "text/plain": [
              "robustness_actual(mean=0.8691808797109739, sd=0.020217098396689115)"
            ]
          },
          "metadata": {
            "tags": []
          },
          "execution_count": 93
        }
      ]
    },
    {
      "cell_type": "code",
      "metadata": {
        "colab_type": "code",
        "outputId": "bd9b0b16-eb2e-44f9-ccde-28ce59553d5f",
        "id": "CJdcxdQja_Xt",
        "colab": {
          "base_uri": "https://localhost:8080/",
          "height": 34
        }
      },
      "source": [
        "robustness2(error_measure_reu(hidden_network),centralityd,error_measure_reu,)"
      ],
      "execution_count": 0,
      "outputs": [
        {
          "output_type": "execute_result",
          "data": {
            "text/plain": [
              "robustness_estimate(mean=0.8573267697968505, sd=0.021918531093094242)"
            ]
          },
          "metadata": {
            "tags": []
          },
          "execution_count": 94
        }
      ]
    },
    {
      "cell_type": "code",
      "metadata": {
        "colab_type": "code",
        "id": "TLLxN2IEa_Xv",
        "outputId": "fb7d7e00-fff4-4424-d038-6ca5dc6bc6a0",
        "colab": {
          "base_uri": "https://localhost:8080/",
          "height": 34
        }
      },
      "source": [
        "robustness1(hidden_network,centralityb,error_measure_reu,)"
      ],
      "execution_count": 0,
      "outputs": [
        {
          "output_type": "execute_result",
          "data": {
            "text/plain": [
              "robustness_actual(mean=0.7515643912226446, sd=0.02557338148728903)"
            ]
          },
          "metadata": {
            "tags": []
          },
          "execution_count": 95
        }
      ]
    },
    {
      "cell_type": "code",
      "metadata": {
        "colab_type": "code",
        "id": "s1JHvgrGa_Xw",
        "outputId": "1594efee-ef7b-4796-bcfb-66eff67830b2",
        "colab": {
          "base_uri": "https://localhost:8080/",
          "height": 34
        }
      },
      "source": [
        "robustness2(error_measure_reu(hidden_network),centralityb,error_measure_reu,)"
      ],
      "execution_count": 0,
      "outputs": [
        {
          "output_type": "execute_result",
          "data": {
            "text/plain": [
              "robustness_estimate(mean=0.7434326156329156, sd=0.025883669781895515)"
            ]
          },
          "metadata": {
            "tags": []
          },
          "execution_count": 96
        }
      ]
    },
    {
      "cell_type": "code",
      "metadata": {
        "colab_type": "code",
        "id": "PyJ4Mz75a_Xy",
        "outputId": "6817536d-1588-4402-fd2f-553d33daa3f1",
        "colab": {
          "base_uri": "https://localhost:8080/",
          "height": 34
        }
      },
      "source": [
        "robustness1(hidden_network,centralityc,error_measure_reu,)"
      ],
      "execution_count": 0,
      "outputs": [
        {
          "output_type": "execute_result",
          "data": {
            "text/plain": [
              "robustness_actual(mean=0.8022036532307056, sd=0.023741547829637975)"
            ]
          },
          "metadata": {
            "tags": []
          },
          "execution_count": 97
        }
      ]
    },
    {
      "cell_type": "code",
      "metadata": {
        "colab_type": "code",
        "id": "bpwxS2p-a_X0",
        "outputId": "0c981cbc-903b-49c1-df1a-9a3e8e4d1c5e",
        "colab": {
          "base_uri": "https://localhost:8080/",
          "height": 34
        }
      },
      "source": [
        "robustness2(error_measure_reu(hidden_network),centralityc,error_measure_reu,)"
      ],
      "execution_count": 0,
      "outputs": [
        {
          "output_type": "execute_result",
          "data": {
            "text/plain": [
              "robustness_estimate(mean=0.7639988803072103, sd=0.026562114681623134)"
            ]
          },
          "metadata": {
            "tags": []
          },
          "execution_count": 98
        }
      ]
    },
    {
      "cell_type": "code",
      "metadata": {
        "colab_type": "code",
        "id": "KXQxIH39a_X1",
        "outputId": "12de3987-fc36-495d-81ef-b962333b0d63",
        "colab": {
          "base_uri": "https://localhost:8080/",
          "height": 34
        }
      },
      "source": [
        "robustness1(hidden_network,centralitye,error_measure_reu,)"
      ],
      "execution_count": 0,
      "outputs": [
        {
          "output_type": "execute_result",
          "data": {
            "text/plain": [
              "robustness_actual(mean=0.8047135562522186, sd=0.02534029269627291)"
            ]
          },
          "metadata": {
            "tags": []
          },
          "execution_count": 99
        }
      ]
    },
    {
      "cell_type": "code",
      "metadata": {
        "colab_type": "code",
        "id": "Z5z6gi_Ba_X6",
        "outputId": "054c55f7-eb6f-4e66-c8e5-a41e0355deb0",
        "colab": {
          "base_uri": "https://localhost:8080/",
          "height": 34
        }
      },
      "source": [
        "robustness2(error_measure_reu(hidden_network),centralitye,error_measure_reu,)"
      ],
      "execution_count": 0,
      "outputs": [
        {
          "output_type": "execute_result",
          "data": {
            "text/plain": [
              "robustness_estimate(mean=0.7558118378262629, sd=0.026105595361672146)"
            ]
          },
          "metadata": {
            "tags": []
          },
          "execution_count": 100
        }
      ]
    },
    {
      "cell_type": "code",
      "metadata": {
        "colab_type": "code",
        "id": "slr2hwePa_X7",
        "outputId": "88e11225-142e-48bf-dff1-e0c5073e2e32",
        "colab": {
          "base_uri": "https://localhost:8080/",
          "height": 34
        }
      },
      "source": [
        "robustness1(hidden_network,centralityp,error_measure_reu,)"
      ],
      "execution_count": 0,
      "outputs": [
        {
          "output_type": "execute_result",
          "data": {
            "text/plain": [
              "robustness_actual(mean=0.8547852666048992, sd=0.024672951703515914)"
            ]
          },
          "metadata": {
            "tags": []
          },
          "execution_count": 101
        }
      ]
    },
    {
      "cell_type": "code",
      "metadata": {
        "colab_type": "code",
        "id": "JP2uxbrsa_YC",
        "outputId": "05f74ce2-41b2-445c-b221-c823deeb1335",
        "colab": {
          "base_uri": "https://localhost:8080/",
          "height": 34
        }
      },
      "source": [
        "robustness2(error_measure_reu(hidden_network),centralityp,error_measure_reu,)"
      ],
      "execution_count": 0,
      "outputs": [
        {
          "output_type": "execute_result",
          "data": {
            "text/plain": [
              "robustness_estimate(mean=0.8316295197034, sd=0.02546098397051649)"
            ]
          },
          "metadata": {
            "tags": []
          },
          "execution_count": 102
        }
      ]
    },
    {
      "cell_type": "markdown",
      "metadata": {
        "colab_type": "text",
        "id": "0h2NXG3ka_YE"
      },
      "source": [
        "## remove_edges_proportional_degree 30 100 runs\n"
      ]
    },
    {
      "cell_type": "code",
      "metadata": {
        "colab_type": "code",
        "outputId": "afa93e04-98aa-44ab-eff6-22a3a30e6015",
        "id": "0oKYyPH3a_YI",
        "colab": {
          "base_uri": "https://localhost:8080/",
          "height": 34
        }
      },
      "source": [
        "robustness1(hidden_network,centralityd,error_measure_repd,)"
      ],
      "execution_count": 0,
      "outputs": [
        {
          "output_type": "execute_result",
          "data": {
            "text/plain": [
              "robustness_actual(mean=0.816939437799884, sd=0.024614427350472347)"
            ]
          },
          "metadata": {
            "tags": []
          },
          "execution_count": 103
        }
      ]
    },
    {
      "cell_type": "code",
      "metadata": {
        "colab_type": "code",
        "outputId": "684c6f6d-1a62-4fe8-8b08-28407b13bf47",
        "id": "DbrWeJksa_YL",
        "colab": {
          "base_uri": "https://localhost:8080/",
          "height": 34
        }
      },
      "source": [
        "robustness2(error_measure_repd(hidden_network),centralityd,error_measure_repd,)"
      ],
      "execution_count": 0,
      "outputs": [
        {
          "output_type": "execute_result",
          "data": {
            "text/plain": [
              "robustness_estimate(mean=0.7279584187686376, sd=0.028571253745129893)"
            ]
          },
          "metadata": {
            "tags": []
          },
          "execution_count": 104
        }
      ]
    },
    {
      "cell_type": "code",
      "metadata": {
        "colab_type": "code",
        "id": "VNaxor2ua_YO",
        "outputId": "a1f3f685-dc96-422e-d4fa-cdfef76dca86",
        "colab": {
          "base_uri": "https://localhost:8080/",
          "height": 34
        }
      },
      "source": [
        "robustness1(hidden_network,centralityb,error_measure_repd,)"
      ],
      "execution_count": 0,
      "outputs": [
        {
          "output_type": "execute_result",
          "data": {
            "text/plain": [
              "robustness_actual(mean=0.7610721043276308, sd=0.027752683089127272)"
            ]
          },
          "metadata": {
            "tags": []
          },
          "execution_count": 105
        }
      ]
    },
    {
      "cell_type": "code",
      "metadata": {
        "colab_type": "code",
        "id": "cPOwMivLa_YR",
        "outputId": "d37ec346-b981-4712-a0ff-c2704548986e",
        "colab": {
          "base_uri": "https://localhost:8080/",
          "height": 34
        }
      },
      "source": [
        "robustness2(error_measure_repd(hidden_network),centralityb,error_measure_repd,)"
      ],
      "execution_count": 0,
      "outputs": [
        {
          "output_type": "execute_result",
          "data": {
            "text/plain": [
              "robustness_estimate(mean=0.6800432252059423, sd=0.030810374483976995)"
            ]
          },
          "metadata": {
            "tags": []
          },
          "execution_count": 106
        }
      ]
    },
    {
      "cell_type": "code",
      "metadata": {
        "colab_type": "code",
        "id": "hnHQ8JEGa_YU",
        "outputId": "ce28fd63-1499-44fc-eee8-ff60fdedecdd",
        "colab": {
          "base_uri": "https://localhost:8080/",
          "height": 34
        }
      },
      "source": [
        "robustness1(hidden_network,centralityc,error_measure_repd,)"
      ],
      "execution_count": 0,
      "outputs": [
        {
          "output_type": "execute_result",
          "data": {
            "text/plain": [
              "robustness_actual(mean=0.7244971638709594, sd=0.0249381063840745)"
            ]
          },
          "metadata": {
            "tags": []
          },
          "execution_count": 109
        }
      ]
    },
    {
      "cell_type": "code",
      "metadata": {
        "colab_type": "code",
        "id": "HX1Y1mI-a_Yd",
        "outputId": "ea64ef1d-90cb-49ec-85bc-fb698f6b4de6",
        "colab": {
          "base_uri": "https://localhost:8080/",
          "height": 34
        }
      },
      "source": [
        "robustness2(error_measure_repd(hidden_network),centralityc,error_measure_repd,)"
      ],
      "execution_count": 0,
      "outputs": [
        {
          "output_type": "execute_result",
          "data": {
            "text/plain": [
              "robustness_estimate(mean=0.6431563447324372, sd=0.03015016757872722)"
            ]
          },
          "metadata": {
            "tags": []
          },
          "execution_count": 110
        }
      ]
    },
    {
      "cell_type": "code",
      "metadata": {
        "colab_type": "code",
        "id": "8eMqRtFra_Yg",
        "outputId": "fef70c17-4fe5-4acd-e959-e6a074af8696",
        "colab": {
          "base_uri": "https://localhost:8080/",
          "height": 34
        }
      },
      "source": [
        "robustness1(hidden_network,centralitye,error_measure_repd,)"
      ],
      "execution_count": 0,
      "outputs": [
        {
          "output_type": "execute_result",
          "data": {
            "text/plain": [
              "robustness_actual(mean=0.7632680508089668, sd=0.028436213383737013)"
            ]
          },
          "metadata": {
            "tags": []
          },
          "execution_count": 111
        }
      ]
    },
    {
      "cell_type": "code",
      "metadata": {
        "colab_type": "code",
        "id": "bpdt6Ch0a_Yj",
        "outputId": "565002c9-ffd6-441d-d9ad-fd0c95c48cc6",
        "colab": {
          "base_uri": "https://localhost:8080/",
          "height": 34
        }
      },
      "source": [
        "robustness2(error_measure_repd(hidden_network),centralitye,error_measure_repd,)"
      ],
      "execution_count": 0,
      "outputs": [
        {
          "output_type": "execute_result",
          "data": {
            "text/plain": [
              "robustness_estimate(mean=0.6729645067572698, sd=0.033298888266593114)"
            ]
          },
          "metadata": {
            "tags": []
          },
          "execution_count": 114
        }
      ]
    },
    {
      "cell_type": "code",
      "metadata": {
        "colab_type": "code",
        "id": "Ixk4trGPa_Ym",
        "outputId": "ce22437f-0a8d-4fc8-bc5d-0731c93f4dde",
        "colab": {
          "base_uri": "https://localhost:8080/",
          "height": 34
        }
      },
      "source": [
        "robustness1(hidden_network,centralityp,error_measure_repd,)"
      ],
      "execution_count": 0,
      "outputs": [
        {
          "output_type": "execute_result",
          "data": {
            "text/plain": [
              "robustness_actual(mean=0.8205390560318406, sd=0.02389926592105107)"
            ]
          },
          "metadata": {
            "tags": []
          },
          "execution_count": 112
        }
      ]
    },
    {
      "cell_type": "code",
      "metadata": {
        "colab_type": "code",
        "id": "toIdHDILa_Yq",
        "outputId": "b5eeb3ad-4336-4321-efd8-a749f6e3ef79",
        "colab": {
          "base_uri": "https://localhost:8080/",
          "height": 34
        }
      },
      "source": [
        "robustness2(error_measure_repd(hidden_network),centralityp,error_measure_repd,)"
      ],
      "execution_count": 0,
      "outputs": [
        {
          "output_type": "execute_result",
          "data": {
            "text/plain": [
              "robustness_estimate(mean=0.7309067006526291, sd=0.0263167109843062)"
            ]
          },
          "metadata": {
            "tags": []
          },
          "execution_count": 113
        }
      ]
    },
    {
      "cell_type": "markdown",
      "metadata": {
        "colab_type": "text",
        "id": "O0CL8dC7a_Y0"
      },
      "source": [
        "## remove_nodes_uniform 30 100 runs\n"
      ]
    },
    {
      "cell_type": "code",
      "metadata": {
        "colab_type": "code",
        "outputId": "1debd7ae-2315-41d4-bc02-7aed4f4841e3",
        "id": "V2JYwXiOa_Y0",
        "colab": {
          "base_uri": "https://localhost:8080/",
          "height": 34
        }
      },
      "source": [
        "robustness1(hidden_network,centralityd,error_measure_rnu,)"
      ],
      "execution_count": 0,
      "outputs": [
        {
          "output_type": "execute_result",
          "data": {
            "text/plain": [
              "robustness_actual(mean=0.615952643912662, sd=0.039314435357100226)"
            ]
          },
          "metadata": {
            "tags": []
          },
          "execution_count": 124
        }
      ]
    },
    {
      "cell_type": "code",
      "metadata": {
        "colab_type": "code",
        "outputId": "82b516b3-e369-4943-ea12-728c522f460b",
        "id": "Wddq6dWTa_Y3",
        "colab": {
          "base_uri": "https://localhost:8080/",
          "height": 34
        }
      },
      "source": [
        "robustness2(error_measure_rnu(hidden_network),centralityd,error_measure_rnu,)"
      ],
      "execution_count": 0,
      "outputs": [
        {
          "output_type": "execute_result",
          "data": {
            "text/plain": [
              "robustness_estimate(mean=0.5940642252377915, sd=0.05326395290224939)"
            ]
          },
          "metadata": {
            "tags": []
          },
          "execution_count": 123
        }
      ]
    },
    {
      "cell_type": "code",
      "metadata": {
        "colab_type": "code",
        "id": "xjWa1RIoa_Y6",
        "outputId": "2afaf532-487a-456e-d228-203ba467d36d",
        "colab": {
          "base_uri": "https://localhost:8080/",
          "height": 34
        }
      },
      "source": [
        "robustness1(hidden_network,centralityb,error_measure_rnu,)"
      ],
      "execution_count": 0,
      "outputs": [
        {
          "output_type": "execute_result",
          "data": {
            "text/plain": [
              "robustness_actual(mean=0.5272125706383327, sd=0.04569605359548101)"
            ]
          },
          "metadata": {
            "tags": []
          },
          "execution_count": 122
        }
      ]
    },
    {
      "cell_type": "code",
      "metadata": {
        "colab_type": "code",
        "id": "6LyYNFMQa_Y_",
        "outputId": "f4fa239a-73f0-40ed-fba6-1d3e6d69840c",
        "colab": {
          "base_uri": "https://localhost:8080/",
          "height": 34
        }
      },
      "source": [
        "robustness2(error_measure_rnu(hidden_network),centralityb,error_measure_rnu,)"
      ],
      "execution_count": 0,
      "outputs": [
        {
          "output_type": "execute_result",
          "data": {
            "text/plain": [
              "robustness_estimate(mean=0.5289733384896028, sd=0.04714932844237512)"
            ]
          },
          "metadata": {
            "tags": []
          },
          "execution_count": 121
        }
      ]
    },
    {
      "cell_type": "code",
      "metadata": {
        "colab_type": "code",
        "id": "WqfOoKNFa_ZH",
        "outputId": "3833c14b-9d63-40ee-8f5f-625a7ae6a9a0",
        "colab": {
          "base_uri": "https://localhost:8080/",
          "height": 34
        }
      },
      "source": [
        "robustness1(hidden_network,centralityc,error_measure_rnu,)"
      ],
      "execution_count": 0,
      "outputs": [
        {
          "output_type": "execute_result",
          "data": {
            "text/plain": [
              "robustness_actual(mean=0.5803873979550118, sd=0.05010669190559617)"
            ]
          },
          "metadata": {
            "tags": []
          },
          "execution_count": 120
        }
      ]
    },
    {
      "cell_type": "code",
      "metadata": {
        "colab_type": "code",
        "id": "Q0E35D_za_ZN",
        "outputId": "031e02c2-983c-4805-d9d7-c00e75adc084",
        "colab": {
          "base_uri": "https://localhost:8080/",
          "height": 34
        }
      },
      "source": [
        "robustness2(error_measure_rnu(hidden_network),centralityc,error_measure_rnu,)"
      ],
      "execution_count": 0,
      "outputs": [
        {
          "output_type": "execute_result",
          "data": {
            "text/plain": [
              "robustness_estimate(mean=0.5403090851463904, sd=0.07205834053968735)"
            ]
          },
          "metadata": {
            "tags": []
          },
          "execution_count": 119
        }
      ]
    },
    {
      "cell_type": "code",
      "metadata": {
        "colab_type": "code",
        "id": "ReNhsPBKa_ZU",
        "outputId": "382cf3f1-24f7-4943-8c43-f9af341599d4",
        "colab": {
          "base_uri": "https://localhost:8080/",
          "height": 34
        }
      },
      "source": [
        "robustness1(hidden_network,centralitye,error_measure_rnu,)"
      ],
      "execution_count": 0,
      "outputs": [
        {
          "output_type": "execute_result",
          "data": {
            "text/plain": [
              "robustness_actual(mean=0.5795306828731747, sd=0.059752038237122)"
            ]
          },
          "metadata": {
            "tags": []
          },
          "execution_count": 118
        }
      ]
    },
    {
      "cell_type": "code",
      "metadata": {
        "colab_type": "code",
        "id": "fHjxFZl-a_ZX",
        "outputId": "edb39694-103c-4c64-8caa-b5b859e7d9ac",
        "colab": {
          "base_uri": "https://localhost:8080/",
          "height": 34
        }
      },
      "source": [
        "robustness2(error_measure_rnu(hidden_network),centralitye,error_measure_rnu,)"
      ],
      "execution_count": 0,
      "outputs": [
        {
          "output_type": "execute_result",
          "data": {
            "text/plain": [
              "robustness_estimate(mean=0.5747981273631706, sd=0.060379079378909496)"
            ]
          },
          "metadata": {
            "tags": []
          },
          "execution_count": 117
        }
      ]
    },
    {
      "cell_type": "code",
      "metadata": {
        "colab_type": "code",
        "id": "53x3kPPTa_ZZ",
        "outputId": "1047a7ed-0eb8-4f93-8671-f022c07944a5",
        "colab": {
          "base_uri": "https://localhost:8080/",
          "height": 34
        }
      },
      "source": [
        "robustness1(hidden_network,centralityp,error_measure_rnu,)"
      ],
      "execution_count": 0,
      "outputs": [
        {
          "output_type": "execute_result",
          "data": {
            "text/plain": [
              "robustness_actual(mean=0.6115200386738912, sd=0.041186669928804806)"
            ]
          },
          "metadata": {
            "tags": []
          },
          "execution_count": 116
        }
      ]
    },
    {
      "cell_type": "code",
      "metadata": {
        "colab_type": "code",
        "id": "mtF9N--Ma_Zc",
        "outputId": "84577abd-1d8b-4f46-b24d-f5b9ee6ebabe",
        "colab": {
          "base_uri": "https://localhost:8080/",
          "height": 34
        }
      },
      "source": [
        "robustness2(error_measure_rnu(hidden_network),centralityp,error_measure_rnu,)"
      ],
      "execution_count": 0,
      "outputs": [
        {
          "output_type": "execute_result",
          "data": {
            "text/plain": [
              "robustness_estimate(mean=0.590177436008832, sd=0.0428974036570475)"
            ]
          },
          "metadata": {
            "tags": []
          },
          "execution_count": 115
        }
      ]
    },
    {
      "cell_type": "markdown",
      "metadata": {
        "colab_type": "text",
        "id": "uFqefujo0RIq"
      },
      "source": [
        "## add_edges_random 10 500"
      ]
    },
    {
      "cell_type": "code",
      "metadata": {
        "colab_type": "code",
        "outputId": "b9a1f9a0-330c-4bdd-8cd3-eb3e131b92e4",
        "id": "n4qeG48R0RIt",
        "colab": {
          "base_uri": "https://localhost:8080/",
          "height": 34
        }
      },
      "source": [
        "robustness1(hidden_network,centralityd,error_measure_aer,)"
      ],
      "execution_count": 0,
      "outputs": [
        {
          "output_type": "execute_result",
          "data": {
            "text/plain": [
              "robustness_actual(mean=0.749817239664887, sd=0.0034580319728431197)"
            ]
          },
          "metadata": {
            "tags": []
          },
          "execution_count": 51
        }
      ]
    },
    {
      "cell_type": "code",
      "metadata": {
        "colab_type": "code",
        "outputId": "590d5fd2-c63c-4818-e211-062717ab0e3d",
        "id": "Ky8XenPW0RIw",
        "colab": {
          "base_uri": "https://localhost:8080/",
          "height": 34
        }
      },
      "source": [
        "robustness2(error_measure_aer(hidden_network),centralityd,error_measure_aer,)"
      ],
      "execution_count": 0,
      "outputs": [
        {
          "output_type": "execute_result",
          "data": {
            "text/plain": [
              "robustness_estimate(mean=0.8194291826680484, sd=0.0032130892499785484)"
            ]
          },
          "metadata": {
            "tags": []
          },
          "execution_count": 52
        }
      ]
    },
    {
      "cell_type": "code",
      "metadata": {
        "colab_type": "code",
        "outputId": "29f135be-6d51-4c28-be85-a10ea7f3a0e9",
        "id": "zmgDxLcR0RIy",
        "colab": {
          "base_uri": "https://localhost:8080/",
          "height": 34
        }
      },
      "source": [
        "robustness1(hidden_network,centralityb,error_measure_aer,)"
      ],
      "execution_count": 0,
      "outputs": [
        {
          "output_type": "execute_result",
          "data": {
            "text/plain": [
              "robustness_actual(mean=0.37272291109272954, sd=0.023110824096609056)"
            ]
          },
          "metadata": {
            "tags": []
          },
          "execution_count": 53
        }
      ]
    },
    {
      "cell_type": "code",
      "metadata": {
        "colab_type": "code",
        "outputId": "13b410d1-6da4-4cb2-8222-952a5e57cf46",
        "id": "NcVIPicZ0RI2",
        "colab": {
          "base_uri": "https://localhost:8080/",
          "height": 34
        }
      },
      "source": [
        "robustness2(error_measure_aer(hidden_network),centralityb,error_measure_aer,)"
      ],
      "execution_count": 0,
      "outputs": [
        {
          "output_type": "execute_result",
          "data": {
            "text/plain": [
              "robustness_estimate(mean=0.5187563458883784, sd=0.019331592489869386)"
            ]
          },
          "metadata": {
            "tags": []
          },
          "execution_count": 54
        }
      ]
    },
    {
      "cell_type": "code",
      "metadata": {
        "colab_type": "code",
        "outputId": "dee9a2e3-39e3-4048-9d71-3df6fa495c13",
        "id": "ZHuA4rlT0RI5",
        "colab": {
          "base_uri": "https://localhost:8080/",
          "height": 34
        }
      },
      "source": [
        "robustness1(hidden_network,centralityc,error_measure_aer,)"
      ],
      "execution_count": 0,
      "outputs": [
        {
          "output_type": "execute_result",
          "data": {
            "text/plain": [
              "robustness_actual(mean=0.7498275965162936, sd=0.003466615683524725)"
            ]
          },
          "metadata": {
            "tags": []
          },
          "execution_count": 55
        }
      ]
    },
    {
      "cell_type": "code",
      "metadata": {
        "colab_type": "code",
        "outputId": "8be0c844-c837-460e-919b-5394fe16da10",
        "id": "v6prTYTg0RI7",
        "colab": {
          "base_uri": "https://localhost:8080/",
          "height": 34
        }
      },
      "source": [
        "robustness2(error_measure_aer(hidden_network),centralityc,error_measure_aer,)"
      ],
      "execution_count": 0,
      "outputs": [
        {
          "output_type": "execute_result",
          "data": {
            "text/plain": [
              "robustness_estimate(mean=0.819860699740612, sd=0.0031972672167505036)"
            ]
          },
          "metadata": {
            "tags": []
          },
          "execution_count": 56
        }
      ]
    },
    {
      "cell_type": "code",
      "metadata": {
        "colab_type": "code",
        "outputId": "48b732c5-6eab-482b-ec02-4c4a22b67d25",
        "id": "UNFegU3P0RI9",
        "colab": {
          "base_uri": "https://localhost:8080/",
          "height": 34
        }
      },
      "source": [
        "robustness1(hidden_network,centralitye,error_measure_aer,)"
      ],
      "execution_count": 0,
      "outputs": [
        {
          "output_type": "execute_result",
          "data": {
            "text/plain": [
              "robustness_actual(mean=0.7499625583792108, sd=0.003218745484835341)"
            ]
          },
          "metadata": {
            "tags": []
          },
          "execution_count": 57
        }
      ]
    },
    {
      "cell_type": "code",
      "metadata": {
        "colab_type": "code",
        "outputId": "6841353b-977d-4ffe-a3be-202951e7034d",
        "id": "C7BYMQcZ0RJB",
        "colab": {
          "base_uri": "https://localhost:8080/",
          "height": 34
        }
      },
      "source": [
        "robustness2(error_measure_aer(hidden_network),centralitye,error_measure_aer,)"
      ],
      "execution_count": 0,
      "outputs": [
        {
          "output_type": "execute_result",
          "data": {
            "text/plain": [
              "robustness_estimate(mean=0.8196580099823291, sd=0.003268631313405282)"
            ]
          },
          "metadata": {
            "tags": []
          },
          "execution_count": 58
        }
      ]
    },
    {
      "cell_type": "code",
      "metadata": {
        "colab_type": "code",
        "outputId": "cd5b8774-2ed1-4228-9b06-345c884f8006",
        "id": "MbuMOWNm0RJF",
        "colab": {
          "base_uri": "https://localhost:8080/",
          "height": 34
        }
      },
      "source": [
        "robustness1(hidden_network,centralityp,error_measure_aer,)"
      ],
      "execution_count": 0,
      "outputs": [
        {
          "output_type": "execute_result",
          "data": {
            "text/plain": [
              "robustness_actual(mean=0.645353294027122, sd=0.014837208230229123)"
            ]
          },
          "metadata": {
            "tags": []
          },
          "execution_count": 59
        }
      ]
    },
    {
      "cell_type": "code",
      "metadata": {
        "colab_type": "code",
        "outputId": "313a535e-4a89-42b9-d2b8-d26d6d643a82",
        "id": "GIMqsVlW0RJH",
        "colab": {
          "base_uri": "https://localhost:8080/",
          "height": 34
        }
      },
      "source": [
        "robustness2(error_measure_aer(hidden_network),centralityp,error_measure_aer,)"
      ],
      "execution_count": 0,
      "outputs": [
        {
          "output_type": "execute_result",
          "data": {
            "text/plain": [
              "robustness_estimate(mean=0.6300432476829563, sd=0.016287142539846443)"
            ]
          },
          "metadata": {
            "tags": []
          },
          "execution_count": 60
        }
      ]
    },
    {
      "cell_type": "markdown",
      "metadata": {
        "id": "V-WX--CCeQfM",
        "colab_type": "text"
      },
      "source": [
        "## Keldaltau\n"
      ]
    },
    {
      "cell_type": "markdown",
      "metadata": {
        "id": "teR-7wd3e7ru",
        "colab_type": "text"
      },
      "source": [
        "## 1. Formula"
      ]
    },
    {
      "cell_type": "code",
      "metadata": {
        "id": "8Tt3CX5geeh0",
        "colab_type": "code",
        "colab": {}
      },
      "source": [
        "def remove_edges_uniform(graph, alpha):\n",
        "    edges_to_remove = sample(graph.edges, ceil(graph.number_of_edges() * alpha))\n",
        "    new_g = graph.copy()\n",
        "\n",
        "    new_g.remove_edges_from(edges_to_remove)\n",
        "    return new_g\n",
        "\n",
        "\n",
        "def remove_nodes_uniform(graph, alpha):\n",
        "    nodes_to_keep = sample(graph.nodes, floor(graph.number_of_nodes() * (1 - alpha)))\n",
        "\n",
        "    return graph.subgraph(nodes_to_keep)\n",
        "\n",
        "\n",
        "def remove_edges_proportional_degree(mygraph, alpha):\n",
        "    new_g = mygraph.copy()\n",
        "\n",
        "    deg = nx.degree(mygraph)\n",
        "    degsum = np.array([deg[x] + deg[y] for x, y in mygraph.edges()])\n",
        "\n",
        "    np.random.seed(int.from_bytes(os.urandom(4), byteorder='big'))\n",
        "    edge_ids = np.random.choice(mygraph.number_of_edges(), size=ceil(mygraph.number_of_edges() * alpha),\n",
        "                                replace=False, p=degsum / degsum.sum())\n",
        "\n",
        "    edges_to_remove = np.array(mygraph.edges)[edge_ids, :]\n",
        "\n",
        "    new_g.remove_edges_from(edges_to_remove)\n",
        "    return new_g\n",
        "\n",
        "\n",
        "def add_edges_random(graph, alpha):\n",
        "    edges_to_add = ceil(graph.number_of_edges() * alpha)\n",
        "    new_G = graph.copy()\n",
        "    N = new_G.number_of_nodes()\n",
        "    edgelist = set([tuple(sorted(e)) for e in new_G.edges()])\n",
        "\n",
        "    cnt = 0\n",
        "    new_edges = set()\n",
        "\n",
        "    while cnt < edges_to_add:\n",
        "        new_edge = tuple(sorted([randint(0, N - 1), randint(0, N - 1)]))\n",
        "        if new_edge[0] == new_edge[1]:\n",
        "            continue\n",
        "        elif not (new_edge in edgelist or new_edge in new_edges):\n",
        "            new_edges.add(new_edge)\n",
        "            cnt += 1\n",
        "\n",
        "    new_G.add_edges_from(new_edges)\n",
        "    return new_G\n",
        "\n",
        "\n",
        "def compare_centrality_dicts_correlation(d1, d2, scipy_correlation=kendalltau):\n",
        "    if set(d1) != set(d2):\n",
        "        nodes = sorted(set(d1).intersection(set(d2)))\n",
        "    else:\n",
        "        nodes = sorted(d1)\n",
        "\n",
        "    v1 = np.round([d1[x] for x in nodes], 12)\n",
        "    v2 = np.round([d2[x] for x in nodes], 12)\n",
        "\n",
        "    return scipy_correlation(v1, v2).correlation\n",
        "\n",
        "\n",
        "def robustness_calculator_builder(centrality_measure, comparison_function=compare_centrality_dicts_correlation):\n",
        "    @wraps(centrality_measure)\n",
        "    def f(g0, g1):\n",
        "        return compare_centrality_dicts_correlation(centrality_measure(g0), centrality_measure(g1))\n",
        "    return f\n",
        "\n",
        "\n",
        "def estimate_robustness(measured_network, error_mechanism, robustness_calculator, iterations=500, return_values=False):\n",
        "    measured_robustness = np.array([robustness_calculator(measured_network, error_mechanism(measured_network))\n",
        "                                    for _ in range(iterations)])\n",
        "    vals = measured_robustness if return_values else None\n",
        "    return namedtuple(\"robustness_estimate\", \"mean, sd values\")(measured_robustness.mean(),\n",
        "                                                                measured_robustness.std(), vals)\n",
        "\n",
        "def true_robustness(hidden_network, error_mechanism, robustness_calculator, iterations=500, return_values=False):\n",
        "    measured_robustness=np.array([robustness_calculator(hidden_network,error_mechanism(hidden_network))\n",
        "                                  for _ in range(iterations)])\n",
        "    vals = measured_robustness if return_values else None\n",
        "    return namedtuple(\"robustness_true\", \"mean, sd values\")(measured_robustness.mean(),\n",
        "                                                                measured_robustness.std(), vals) "
      ],
      "execution_count": 0,
      "outputs": []
    },
    {
      "cell_type": "markdown",
      "metadata": {
        "colab_type": "text",
        "id": "fTeq2IXFiSX0"
      },
      "source": [
        "## 2. Load in the network"
      ]
    },
    {
      "cell_type": "code",
      "metadata": {
        "colab_type": "code",
        "id": "bq7Hs6rqiSX1",
        "colab": {}
      },
      "source": [
        "#read network in version 1\n",
        "\n",
        "#with open('/content/drive/My Drive/out.petster-friendships-hamster-uniq') as f:\n",
        "  print(f.readlines()[:5])"
      ],
      "execution_count": 0,
      "outputs": []
    },
    {
      "cell_type": "code",
      "metadata": {
        "colab_type": "code",
        "outputId": "d0005641-eb2d-443a-c781-074e060b7518",
        "id": "70Dz2vRniSX4",
        "colab": {
          "base_uri": "https://localhost:8080/",
          "height": 34
        }
      },
      "source": [
        "#read network in version 2 if you have it in the table of content uploaded\n",
        "\n",
        "with open(\"out.petster-friendships-hamster-uniq\") as f:\n",
        "  print(f.readlines()[:5])"
      ],
      "execution_count": 0,
      "outputs": [
        {
          "output_type": "stream",
          "text": [
            "['% sym unweighted\\n', '99 98\\n', '999 550\\n', '999 42\\n', '999 25\\n']\n"
          ],
          "name": "stdout"
        }
      ]
    },
    {
      "cell_type": "code",
      "metadata": {
        "colab_type": "code",
        "id": "PFrZlPbFiSX8",
        "colab": {}
      },
      "source": [
        "#interaction_graph = nx.read_edgelist(\"/out.petster-friendships-hamster-uniq\", create_using = nx.Graph(), comments = \"%\")\n",
        "interaction_graph = nx.read_edgelist(\"out.petster-friendships-hamster-uniq\", create_using = nx.Graph(), comments = \"%\")"
      ],
      "execution_count": 0,
      "outputs": []
    },
    {
      "cell_type": "code",
      "metadata": {
        "colab_type": "code",
        "id": "W-u_tD-giSX-",
        "colab": {}
      },
      "source": [
        "connected_subgraph=max(nx.connected_component_subgraphs(interaction_graph), key=len)\n"
      ],
      "execution_count": 0,
      "outputs": []
    },
    {
      "cell_type": "code",
      "metadata": {
        "colab_type": "code",
        "outputId": "0c6940be-1604-4520-8515-7d6044054664",
        "id": "wpPRmbSviSYB",
        "colab": {
          "base_uri": "https://localhost:8080/",
          "height": 34
        }
      },
      "source": [
        "nx.info(connected_subgraph)"
      ],
      "execution_count": 0,
      "outputs": [
        {
          "output_type": "execute_result",
          "data": {
            "text/plain": [
              "'Name: \\nType: Graph\\nNumber of nodes: 1788\\nNumber of edges: 12476\\nAverage degree:  13.9553'"
            ]
          },
          "metadata": {
            "tags": []
          },
          "execution_count": 17
        }
      ]
    },
    {
      "cell_type": "markdown",
      "metadata": {
        "id": "mBopp4s7i5K8",
        "colab_type": "text"
      },
      "source": [
        "## 3. Input"
      ]
    },
    {
      "cell_type": "code",
      "metadata": {
        "colab_type": "code",
        "id": "7VYNJtd_iq03",
        "colab": {}
      },
      "source": [
        "#define input\n",
        "hidden_network=connected_subgraph\n",
        "alpha1=0.1\n",
        "alpha2=0.3\n",
        "error_measure_aer=partial(add_edges_random, alpha=alpha1) \n",
        "error_measure_reu=partial(remove_edges_uniform, alpha=alpha1)\n",
        "error_measure_repd=partial(remove_edges_proportional_degree, alpha=alpha1)\n",
        "error_measure_rnu=partial(remove_nodes_uniform, alpha=alpha1)\n",
        "centralityd=nk_wrapper(nk.centrality.DegreeCentrality, True)\n",
        "centralityb=nk_wrapper(nk.centrality.Betweenness)\n",
        "centralityc=nk_wrapper(nk.centrality.Closeness, True, True)\n",
        "#centralitye=nx.eigenvector_centrality\n",
        "centralitye=nk_wrapper(nk.centrality.EigenvectorCentrality)\n",
        "centralityp=nk_wrapper(nk.centrality.PageRank)\n",
        "\n",
        "degree_robustness_calculator = robustness_calculator_builder(centralityd)\n",
        "betweenness_robustness_calculator = robustness_calculator_builder(centralityb)\n",
        "centrality_robustness_calculator = robustness_calculator_builder(centralityc)\n",
        "eigenvector_robustness_calculator = robustness_calculator_builder(centralitye)\n",
        "pagerank_robustness_calculator = robustness_calculator_builder(centralityp)"
      ],
      "execution_count": 0,
      "outputs": []
    },
    {
      "cell_type": "markdown",
      "metadata": {
        "id": "QVCLHnH4i_NN",
        "colab_type": "text"
      },
      "source": [
        "## 4. Code"
      ]
    },
    {
      "cell_type": "markdown",
      "metadata": {
        "id": "b6Ju0DkhT1U8",
        "colab_type": "text"
      },
      "source": [
        "## add_edges_random 10 500"
      ]
    },
    {
      "cell_type": "code",
      "metadata": {
        "id": "iMn_nkhGZ-Lp",
        "colab_type": "code",
        "colab": {}
      },
      "source": [
        "#interaction_graph = nx.read_edgelist(\"/out.petster-friendships-hamster-uniq\", create_using = nx.Graph(), comments = \"%\")\n",
        "interaction_graph = nx.read_edgelist(\"out.petster-friendships-hamster-uniq\", create_using = nx.Graph(), comments = \"%\", nodetype=int)"
      ],
      "execution_count": 0,
      "outputs": []
    },
    {
      "cell_type": "code",
      "metadata": {
        "colab_type": "code",
        "outputId": "40839cd6-befc-4338-aa3f-def38f11fe48",
        "id": "VAc6NnoCUP4i",
        "colab": {
          "base_uri": "https://localhost:8080/",
          "height": 34
        }
      },
      "source": [
        "true_robustness(hidden_network, error_measure_aer,degree_robustness_calculator)"
      ],
      "execution_count": 0,
      "outputs": [
        {
          "output_type": "execute_result",
          "data": {
            "text/plain": [
              "robustness_true(mean=0.9219642159895846, sd=0.0021640089939342307, values=None)"
            ]
          },
          "metadata": {
            "tags": []
          },
          "execution_count": 32
        }
      ]
    },
    {
      "cell_type": "code",
      "metadata": {
        "colab_type": "code",
        "outputId": "abcc9e4e-a945-4abf-fe2f-c216a5855142",
        "id": "uNp1W605UP4m",
        "colab": {
          "base_uri": "https://localhost:8080/",
          "height": 34
        }
      },
      "source": [
        "estimate_robustness(error_measure_aer(hidden_network), error_measure_aer, degree_robustness_calculator,)"
      ],
      "execution_count": 0,
      "outputs": [
        {
          "output_type": "execute_result",
          "data": {
            "text/plain": [
              "robustness_estimate(mean=0.922347391432886, sd=0.002156418969679542, values=None)"
            ]
          },
          "metadata": {
            "tags": []
          },
          "execution_count": 33
        }
      ]
    },
    {
      "cell_type": "code",
      "metadata": {
        "colab_type": "code",
        "outputId": "d8adeff8-c398-456c-c63d-e84213ffe64b",
        "id": "Iwsmai9YUP4q",
        "colab": {
          "base_uri": "https://localhost:8080/",
          "height": 34
        }
      },
      "source": [
        "true_robustness(hidden_network, error_measure_aer,betweenness_robustness_calculator)"
      ],
      "execution_count": 0,
      "outputs": [
        {
          "output_type": "execute_result",
          "data": {
            "text/plain": [
              "robustness_true(mean=0.6866478267563357, sd=0.007085650324672657, values=None)"
            ]
          },
          "metadata": {
            "tags": []
          },
          "execution_count": 34
        }
      ]
    },
    {
      "cell_type": "code",
      "metadata": {
        "colab_type": "code",
        "outputId": "2ebc32b3-f303-4717-99d4-ec8bf372b80b",
        "id": "WEvOdzh4UP4s",
        "colab": {
          "base_uri": "https://localhost:8080/",
          "height": 34
        }
      },
      "source": [
        "estimate_robustness(error_measure_aer(hidden_network), error_measure_aer, betweenness_robustness_calculator,)"
      ],
      "execution_count": 0,
      "outputs": [
        {
          "output_type": "execute_result",
          "data": {
            "text/plain": [
              "robustness_estimate(mean=0.7520403711242306, sd=0.0061366231395576535, values=None)"
            ]
          },
          "metadata": {
            "tags": []
          },
          "execution_count": 35
        }
      ]
    },
    {
      "cell_type": "code",
      "metadata": {
        "colab_type": "code",
        "outputId": "835b6464-7974-4a4d-e1de-09cb06056337",
        "id": "OgS-q9BmUP4u",
        "colab": {
          "base_uri": "https://localhost:8080/",
          "height": 34
        }
      },
      "source": [
        "true_robustness(hidden_network, error_measure_aer,centrality_robustness_calculator)"
      ],
      "execution_count": 0,
      "outputs": [
        {
          "output_type": "execute_result",
          "data": {
            "text/plain": [
              "robustness_true(mean=0.8891323888352974, sd=0.0031538638060063548, values=None)"
            ]
          },
          "metadata": {
            "tags": []
          },
          "execution_count": 36
        }
      ]
    },
    {
      "cell_type": "code",
      "metadata": {
        "colab_type": "code",
        "outputId": "1f2a2d06-a287-4edd-d6d5-91f4a47ef17e",
        "id": "cFdXi06jUP4w",
        "colab": {
          "base_uri": "https://localhost:8080/",
          "height": 34
        }
      },
      "source": [
        "estimate_robustness(error_measure_aer(hidden_network), error_measure_aer, centrality_robustness_calculator,)"
      ],
      "execution_count": 0,
      "outputs": [
        {
          "output_type": "execute_result",
          "data": {
            "text/plain": [
              "robustness_estimate(mean=0.9011060474978956, sd=0.002704149918560122, values=None)"
            ]
          },
          "metadata": {
            "tags": []
          },
          "execution_count": 37
        }
      ]
    },
    {
      "cell_type": "code",
      "metadata": {
        "colab_type": "code",
        "outputId": "cdb042bd-f1b3-47d9-a493-7b94d585995f",
        "id": "nI3eX8H5UP4y",
        "colab": {
          "base_uri": "https://localhost:8080/",
          "height": 34
        }
      },
      "source": [
        "true_robustness(hidden_network, error_measure_aer,eigenvector_robustness_calculator)"
      ],
      "execution_count": 0,
      "outputs": [
        {
          "output_type": "execute_result",
          "data": {
            "text/plain": [
              "robustness_true(mean=0.9305397848947347, sd=0.0026538530610510265, values=None)"
            ]
          },
          "metadata": {
            "tags": []
          },
          "execution_count": 38
        }
      ]
    },
    {
      "cell_type": "code",
      "metadata": {
        "colab_type": "code",
        "outputId": "e98eefb6-7f1d-4061-a88f-b846653d2624",
        "id": "_OiAEHy-UP40",
        "colab": {
          "base_uri": "https://localhost:8080/",
          "height": 34
        }
      },
      "source": [
        "estimate_robustness(error_measure_aer(hidden_network), error_measure_aer, eigenvector_robustness_calculator,)"
      ],
      "execution_count": 0,
      "outputs": [
        {
          "output_type": "execute_result",
          "data": {
            "text/plain": [
              "robustness_estimate(mean=0.9295606301476871, sd=0.0025943596730706566, values=None)"
            ]
          },
          "metadata": {
            "tags": []
          },
          "execution_count": 39
        }
      ]
    },
    {
      "cell_type": "code",
      "metadata": {
        "colab_type": "code",
        "outputId": "41db8dea-0ef0-4e5f-818f-e75668965b32",
        "id": "AgsTw3guUP45",
        "colab": {
          "base_uri": "https://localhost:8080/",
          "height": 34
        }
      },
      "source": [
        "true_robustness(hidden_network, error_measure_aer,pagerank_robustness_calculator)"
      ],
      "execution_count": 0,
      "outputs": [
        {
          "output_type": "execute_result",
          "data": {
            "text/plain": [
              "robustness_true(mean=0.8371223288283208, sd=0.0033106730910927125, values=None)"
            ]
          },
          "metadata": {
            "tags": []
          },
          "execution_count": 40
        }
      ]
    },
    {
      "cell_type": "code",
      "metadata": {
        "colab_type": "code",
        "outputId": "97fbf0fe-f72d-4cce-b1f7-b9c219224879",
        "id": "6LK0MSnHUP48",
        "colab": {
          "base_uri": "https://localhost:8080/",
          "height": 34
        }
      },
      "source": [
        "estimate_robustness(error_measure_aer(hidden_network), error_measure_aer, pagerank_robustness_calculator,)"
      ],
      "execution_count": 0,
      "outputs": [
        {
          "output_type": "execute_result",
          "data": {
            "text/plain": [
              "robustness_estimate(mean=0.86053422423693, sd=0.0027772244247031806, values=None)"
            ]
          },
          "metadata": {
            "tags": []
          },
          "execution_count": 41
        }
      ]
    },
    {
      "cell_type": "markdown",
      "metadata": {
        "id": "W8dn5zRfDwea",
        "colab_type": "text"
      },
      "source": [
        "##remove_edges_uniform 10 500 runs"
      ]
    },
    {
      "cell_type": "code",
      "metadata": {
        "id": "OvoPcdzejIMT",
        "colab_type": "code",
        "outputId": "644f1fc5-2bea-47e4-aa36-75e0466e7721",
        "colab": {
          "base_uri": "https://localhost:8080/",
          "height": 34
        }
      },
      "source": [
        "true_robustness(hidden_network, error_measure_reu,degree_robustness_calculator)"
      ],
      "execution_count": 0,
      "outputs": [
        {
          "output_type": "execute_result",
          "data": {
            "text/plain": [
              "robustness_true(mean=0.9612164131569961, sd=0.0013083567420279195, values=None)"
            ]
          },
          "metadata": {
            "tags": []
          },
          "execution_count": 21
        }
      ]
    },
    {
      "cell_type": "code",
      "metadata": {
        "id": "yqT5q4QHEawA",
        "colab_type": "code",
        "outputId": "bfd2d6aa-10f1-4c5a-ce8d-dbd52bfea117",
        "colab": {
          "base_uri": "https://localhost:8080/",
          "height": 34
        }
      },
      "source": [
        "estimate_robustness(error_measure_reu(hidden_network), error_measure_reu, degree_robustness_calculator,)"
      ],
      "execution_count": 0,
      "outputs": [
        {
          "output_type": "execute_result",
          "data": {
            "text/plain": [
              "robustness_estimate(mean=0.9604088496102318, sd=0.001336044845537172, values=None)"
            ]
          },
          "metadata": {
            "tags": []
          },
          "execution_count": 23
        }
      ]
    },
    {
      "cell_type": "code",
      "metadata": {
        "id": "S6m3XIHbEcEK",
        "colab_type": "code",
        "outputId": "93cc170b-7cad-4250-9596-f5be1cfd8475",
        "colab": {
          "base_uri": "https://localhost:8080/",
          "height": 34
        }
      },
      "source": [
        "true_robustness(hidden_network, error_measure_reu,betweenness_robustness_calculator)"
      ],
      "execution_count": 0,
      "outputs": [
        {
          "output_type": "execute_result",
          "data": {
            "text/plain": [
              "robustness_true(mean=0.9175017428220412, sd=0.007063526431914543, values=None)"
            ]
          },
          "metadata": {
            "tags": []
          },
          "execution_count": 22
        }
      ]
    },
    {
      "cell_type": "code",
      "metadata": {
        "id": "iLggbWJlEcRA",
        "colab_type": "code",
        "outputId": "ac5ac92f-a748-4a14-9e66-d566436404e9",
        "colab": {
          "base_uri": "https://localhost:8080/",
          "height": 34
        }
      },
      "source": [
        "estimate_robustness(error_measure_reu(hidden_network), error_measure_reu, betweenness_robustness_calculator,)"
      ],
      "execution_count": 0,
      "outputs": [
        {
          "output_type": "execute_result",
          "data": {
            "text/plain": [
              "robustness_estimate(mean=0.9157926797813332, sd=0.006965682030401637, values=None)"
            ]
          },
          "metadata": {
            "tags": []
          },
          "execution_count": 24
        }
      ]
    },
    {
      "cell_type": "code",
      "metadata": {
        "id": "zGXiWbtpEcmB",
        "colab_type": "code",
        "outputId": "82a4cbc4-b6a0-4f50-e117-90cde26a3e05",
        "colab": {
          "base_uri": "https://localhost:8080/",
          "height": 34
        }
      },
      "source": [
        "true_robustness(hidden_network, error_measure_reu,centrality_robustness_calculator)"
      ],
      "execution_count": 0,
      "outputs": [
        {
          "output_type": "execute_result",
          "data": {
            "text/plain": [
              "robustness_true(mean=0.9320599340530468, sd=0.0036643203417553536, values=None)"
            ]
          },
          "metadata": {
            "tags": []
          },
          "execution_count": 25
        }
      ]
    },
    {
      "cell_type": "code",
      "metadata": {
        "id": "i5TYjx9AEc2I",
        "colab_type": "code",
        "outputId": "81dcc7da-a49d-4a41-992a-5300a300dfcb",
        "colab": {
          "base_uri": "https://localhost:8080/",
          "height": 34
        }
      },
      "source": [
        "estimate_robustness(error_measure_reu(hidden_network), error_measure_reu, centrality_robustness_calculator,)"
      ],
      "execution_count": 0,
      "outputs": [
        {
          "output_type": "execute_result",
          "data": {
            "text/plain": [
              "robustness_estimate(mean=0.9303399856866509, sd=0.003705812490539374, values=None)"
            ]
          },
          "metadata": {
            "tags": []
          },
          "execution_count": 19
        }
      ]
    },
    {
      "cell_type": "code",
      "metadata": {
        "id": "-NDDAfK8Ec6G",
        "colab_type": "code",
        "outputId": "3d118ad7-eb6b-4fc9-f796-ade38e675a41",
        "colab": {
          "base_uri": "https://localhost:8080/",
          "height": 34
        }
      },
      "source": [
        "true_robustness(hidden_network, error_measure_reu,eigenvector_robustness_calculator)"
      ],
      "execution_count": 0,
      "outputs": [
        {
          "output_type": "execute_result",
          "data": {
            "text/plain": [
              "robustness_true(mean=0.9360779309026731, sd=0.003153851268804703, values=None)"
            ]
          },
          "metadata": {
            "tags": []
          },
          "execution_count": 20
        }
      ]
    },
    {
      "cell_type": "code",
      "metadata": {
        "id": "xUlJwAYhEcjH",
        "colab_type": "code",
        "outputId": "a387e889-ba44-4595-a463-bf87c273f3aa",
        "colab": {
          "base_uri": "https://localhost:8080/",
          "height": 34
        }
      },
      "source": [
        "estimate_robustness(error_measure_reu(hidden_network), error_measure_reu, eigenvector_robustness_calculator,)"
      ],
      "execution_count": 0,
      "outputs": [
        {
          "output_type": "execute_result",
          "data": {
            "text/plain": [
              "robustness_estimate(mean=0.9350873089263221, sd=0.003220138489252138, values=None)"
            ]
          },
          "metadata": {
            "tags": []
          },
          "execution_count": 21
        }
      ]
    },
    {
      "cell_type": "code",
      "metadata": {
        "id": "lQQten33EcgC",
        "colab_type": "code",
        "outputId": "d4931513-4356-470d-abac-a48309c36822",
        "colab": {
          "base_uri": "https://localhost:8080/",
          "height": 34
        }
      },
      "source": [
        "true_robustness(hidden_network, error_measure_reu,pagerank_robustness_calculator)"
      ],
      "execution_count": 0,
      "outputs": [
        {
          "output_type": "execute_result",
          "data": {
            "text/plain": [
              "robustness_true(mean=0.9262598228554376, sd=0.0030044252685534024, values=None)"
            ]
          },
          "metadata": {
            "tags": []
          },
          "execution_count": 22
        }
      ]
    },
    {
      "cell_type": "code",
      "metadata": {
        "id": "u8BNPsB1F8P5",
        "colab_type": "code",
        "outputId": "618b04af-c7ed-472c-a384-a0357251052d",
        "colab": {
          "base_uri": "https://localhost:8080/",
          "height": 34
        }
      },
      "source": [
        "estimate_robustness(error_measure_reu(hidden_network), error_measure_reu, pagerank_robustness_calculator,)"
      ],
      "execution_count": 0,
      "outputs": [
        {
          "output_type": "execute_result",
          "data": {
            "text/plain": [
              "robustness_estimate(mean=0.9242494802453447, sd=0.0032885146916822126, values=None)"
            ]
          },
          "metadata": {
            "tags": []
          },
          "execution_count": 23
        }
      ]
    },
    {
      "cell_type": "markdown",
      "metadata": {
        "id": "_f9infGvGB2v",
        "colab_type": "text"
      },
      "source": [
        "## remove_edges_proportional_degree 10 500 runs"
      ]
    },
    {
      "cell_type": "code",
      "metadata": {
        "colab_type": "code",
        "outputId": "624cf50f-388b-40b3-c3e9-eeedb53616a3",
        "id": "ObjMJGtrJr9B",
        "colab": {
          "base_uri": "https://localhost:8080/",
          "height": 34
        }
      },
      "source": [
        "true_robustness(hidden_network, error_measure_repd,degree_robustness_calculator)"
      ],
      "execution_count": 0,
      "outputs": [
        {
          "output_type": "execute_result",
          "data": {
            "text/plain": [
              "robustness_true(mean=0.9725358081645531, sd=0.001029170544759112, values=None)"
            ]
          },
          "metadata": {
            "tags": []
          },
          "execution_count": 26
        }
      ]
    },
    {
      "cell_type": "code",
      "metadata": {
        "colab_type": "code",
        "outputId": "53a5ca8a-7611-4e33-fe44-42a038779310",
        "id": "NWnnS5vaJr9H",
        "colab": {
          "base_uri": "https://localhost:8080/",
          "height": 34
        }
      },
      "source": [
        "estimate_robustness(error_measure_repd(hidden_network), error_measure_repd, degree_robustness_calculator,)"
      ],
      "execution_count": 0,
      "outputs": [
        {
          "output_type": "execute_result",
          "data": {
            "text/plain": [
              "robustness_estimate(mean=0.9714625849588805, sd=0.0010680765880117615, values=None)"
            ]
          },
          "metadata": {
            "tags": []
          },
          "execution_count": 25
        }
      ]
    },
    {
      "cell_type": "code",
      "metadata": {
        "colab_type": "code",
        "id": "aXJ6iVGiJr9L",
        "outputId": "0bfa8fe8-cdaa-44eb-cfd2-126863a69917",
        "colab": {
          "base_uri": "https://localhost:8080/",
          "height": 34
        }
      },
      "source": [
        "true_robustness(hidden_network, error_measure_repd,betweenness_robustness_calculator)"
      ],
      "execution_count": 0,
      "outputs": [
        {
          "output_type": "execute_result",
          "data": {
            "text/plain": [
              "robustness_true(mean=0.9395418865494446, sd=0.004324996080237535, values=None)"
            ]
          },
          "metadata": {
            "tags": []
          },
          "execution_count": 33
        }
      ]
    },
    {
      "cell_type": "code",
      "metadata": {
        "colab_type": "code",
        "id": "R9pu87LuJr9N",
        "outputId": "69b3db4e-7b40-49ec-9b32-9de8ec175bfa",
        "colab": {
          "base_uri": "https://localhost:8080/",
          "height": 34
        }
      },
      "source": [
        "estimate_robustness(error_measure_repd(hidden_network), error_measure_repd, betweenness_robustness_calculator,)"
      ],
      "execution_count": 0,
      "outputs": [
        {
          "output_type": "execute_result",
          "data": {
            "text/plain": [
              "robustness_estimate(mean=0.9381797954232258, sd=0.0042865182305489415, values=None)"
            ]
          },
          "metadata": {
            "tags": []
          },
          "execution_count": 27
        }
      ]
    },
    {
      "cell_type": "code",
      "metadata": {
        "colab_type": "code",
        "id": "l4PENweVJr9V",
        "outputId": "7dbc7a80-b44d-4da2-a10e-e53c510b5cdc",
        "colab": {
          "base_uri": "https://localhost:8080/",
          "height": 34
        }
      },
      "source": [
        "true_robustness(hidden_network, error_measure_repd,centrality_robustness_calculator)"
      ],
      "execution_count": 0,
      "outputs": [
        {
          "output_type": "execute_result",
          "data": {
            "text/plain": [
              "robustness_true(mean=0.914836345008822, sd=0.004337371428156348, values=None)"
            ]
          },
          "metadata": {
            "tags": []
          },
          "execution_count": 28
        }
      ]
    },
    {
      "cell_type": "code",
      "metadata": {
        "colab_type": "code",
        "id": "3sa2HUamJr9Y",
        "outputId": "a79b4321-b02d-48da-a005-61d7dbcf1b50",
        "colab": {
          "base_uri": "https://localhost:8080/",
          "height": 34
        }
      },
      "source": [
        "estimate_robustness(error_measure_repd(hidden_network), error_measure_repd, centrality_robustness_calculator,)"
      ],
      "execution_count": 0,
      "outputs": [
        {
          "output_type": "execute_result",
          "data": {
            "text/plain": [
              "robustness_estimate(mean=0.9186183398550699, sd=0.003956159800167806, values=None)"
            ]
          },
          "metadata": {
            "tags": []
          },
          "execution_count": 29
        }
      ]
    },
    {
      "cell_type": "code",
      "metadata": {
        "colab_type": "code",
        "id": "8rdts-RuJr9b",
        "outputId": "12ea0822-eef2-4750-e81d-1cf5634d9806",
        "colab": {
          "base_uri": "https://localhost:8080/",
          "height": 34
        }
      },
      "source": [
        "true_robustness(hidden_network, error_measure_repd,eigenvector_robustness_calculator)"
      ],
      "execution_count": 0,
      "outputs": [
        {
          "output_type": "execute_result",
          "data": {
            "text/plain": [
              "robustness_true(mean=0.9257509184069893, sd=0.0038664361680235434, values=None)"
            ]
          },
          "metadata": {
            "tags": []
          },
          "execution_count": 34
        }
      ]
    },
    {
      "cell_type": "code",
      "metadata": {
        "colab_type": "code",
        "id": "Ef5_9lsyJr9e",
        "outputId": "d32acddc-7b08-425f-d1d9-edae4aeb8b81",
        "colab": {
          "base_uri": "https://localhost:8080/",
          "height": 34
        }
      },
      "source": [
        "estimate_robustness(error_measure_repd(hidden_network), error_measure_repd, eigenvector_robustness_calculator,)"
      ],
      "execution_count": 0,
      "outputs": [
        {
          "output_type": "execute_result",
          "data": {
            "text/plain": [
              "robustness_estimate(mean=0.9273106420381542, sd=0.0032557593745393284, values=None)"
            ]
          },
          "metadata": {
            "tags": []
          },
          "execution_count": 35
        }
      ]
    },
    {
      "cell_type": "code",
      "metadata": {
        "colab_type": "code",
        "id": "RBEtjOqXJr9h",
        "outputId": "d555ec4b-453c-4480-9b11-48c53c020f93",
        "colab": {
          "base_uri": "https://localhost:8080/",
          "height": 34
        }
      },
      "source": [
        "true_robustness(hidden_network, error_measure_repd,pagerank_robustness_calculator)"
      ],
      "execution_count": 0,
      "outputs": [
        {
          "output_type": "execute_result",
          "data": {
            "text/plain": [
              "robustness_true(mean=0.9520777552481606, sd=0.0016684847712133434, values=None)"
            ]
          },
          "metadata": {
            "tags": []
          },
          "execution_count": 36
        }
      ]
    },
    {
      "cell_type": "code",
      "metadata": {
        "colab_type": "code",
        "id": "yFDR1VxbJr9m",
        "outputId": "72ae20f5-29a6-46b7-aedd-597162e8300d",
        "colab": {
          "base_uri": "https://localhost:8080/",
          "height": 34
        }
      },
      "source": [
        "estimate_robustness(error_measure_repd(hidden_network), error_measure_repd, pagerank_robustness_calculator,)"
      ],
      "execution_count": 0,
      "outputs": [
        {
          "output_type": "execute_result",
          "data": {
            "text/plain": [
              "robustness_estimate(mean=0.9501072258351904, sd=0.001967125492091114, values=None)"
            ]
          },
          "metadata": {
            "tags": []
          },
          "execution_count": 37
        }
      ]
    },
    {
      "cell_type": "markdown",
      "metadata": {
        "colab_type": "text",
        "id": "Gc8vQAgxJr9n"
      },
      "source": [
        "## remove_nodes_uniform 10 500  runs"
      ]
    },
    {
      "cell_type": "code",
      "metadata": {
        "colab_type": "code",
        "id": "Ar3_CE3mKlsT",
        "outputId": "6e2bafde-cdcf-4bc9-80d7-eae53b376dc6",
        "colab": {
          "base_uri": "https://localhost:8080/",
          "height": 34
        }
      },
      "source": [
        "true_robustness(hidden_network, error_measure_rnu,degree_robustness_calculator)"
      ],
      "execution_count": 0,
      "outputs": [
        {
          "output_type": "execute_result",
          "data": {
            "text/plain": [
              "robustness_true(mean=0.9618512909656488, sd=0.004861204954265167, values=None)"
            ]
          },
          "metadata": {
            "tags": []
          },
          "execution_count": 27
        }
      ]
    },
    {
      "cell_type": "code",
      "metadata": {
        "colab_type": "code",
        "id": "k_chawxXKlsX",
        "outputId": "6779de2b-7360-4b52-db02-8fbd0c1f6d1b",
        "colab": {
          "base_uri": "https://localhost:8080/",
          "height": 34
        }
      },
      "source": [
        "estimate_robustness(error_measure_rnu(hidden_network), error_measure_rnu, degree_robustness_calculator,)"
      ],
      "execution_count": 0,
      "outputs": [
        {
          "output_type": "execute_result",
          "data": {
            "text/plain": [
              "robustness_estimate(mean=0.9612869629131588, sd=0.005088233003214009, values=None)"
            ]
          },
          "metadata": {
            "tags": []
          },
          "execution_count": 28
        }
      ]
    },
    {
      "cell_type": "code",
      "metadata": {
        "colab_type": "code",
        "id": "Isnl9WoNKlsb",
        "outputId": "d16b5293-5fc2-46df-cbd2-02a89eff2ab8",
        "colab": {
          "base_uri": "https://localhost:8080/",
          "height": 34
        }
      },
      "source": [
        "true_robustness(hidden_network, error_measure_rnu,betweenness_robustness_calculator)"
      ],
      "execution_count": 0,
      "outputs": [
        {
          "output_type": "execute_result",
          "data": {
            "text/plain": [
              "robustness_true(mean=0.9245750300637239, sd=0.010977955152898363, values=None)"
            ]
          },
          "metadata": {
            "tags": []
          },
          "execution_count": 29
        }
      ]
    },
    {
      "cell_type": "code",
      "metadata": {
        "colab_type": "code",
        "id": "i0UelzKdKlsd",
        "outputId": "49f36697-4b30-4768-940c-3d4516f8ace9",
        "colab": {
          "base_uri": "https://localhost:8080/",
          "height": 34
        }
      },
      "source": [
        "estimate_robustness(error_measure_rnu(hidden_network), error_measure_rnu, betweenness_robustness_calculator,)"
      ],
      "execution_count": 0,
      "outputs": [
        {
          "output_type": "execute_result",
          "data": {
            "text/plain": [
              "robustness_estimate(mean=0.9268256930961668, sd=0.01151611881167464, values=None)"
            ]
          },
          "metadata": {
            "tags": []
          },
          "execution_count": 30
        }
      ]
    },
    {
      "cell_type": "code",
      "metadata": {
        "colab_type": "code",
        "id": "5M1x13ROKlsj",
        "outputId": "f2999c0b-60c0-428f-c81b-74d77f4a60ad",
        "colab": {
          "base_uri": "https://localhost:8080/",
          "height": 34
        }
      },
      "source": [
        "true_robustness(hidden_network, error_measure_rnu,centrality_robustness_calculator)"
      ],
      "execution_count": 0,
      "outputs": [
        {
          "output_type": "execute_result",
          "data": {
            "text/plain": [
              "robustness_true(mean=0.9330570633241395, sd=0.024657943065657183, values=None)"
            ]
          },
          "metadata": {
            "tags": []
          },
          "execution_count": 31
        }
      ]
    },
    {
      "cell_type": "code",
      "metadata": {
        "colab_type": "code",
        "id": "57-ZSBFIKlsn",
        "outputId": "4264d1f3-1c72-464c-af75-73ce1654624b",
        "colab": {
          "base_uri": "https://localhost:8080/",
          "height": 34
        }
      },
      "source": [
        "estimate_robustness(error_measure_rnu(hidden_network), error_measure_rnu, centrality_robustness_calculator,)"
      ],
      "execution_count": 0,
      "outputs": [
        {
          "output_type": "execute_result",
          "data": {
            "text/plain": [
              "robustness_estimate(mean=0.9347580266484542, sd=0.025238199408695358, values=None)"
            ]
          },
          "metadata": {
            "tags": []
          },
          "execution_count": 32
        }
      ]
    },
    {
      "cell_type": "code",
      "metadata": {
        "colab_type": "code",
        "id": "29F5njSgKlsq",
        "outputId": "be1e9105-a2bc-4ba5-c487-2ab43c57df0c",
        "colab": {
          "base_uri": "https://localhost:8080/",
          "height": 34
        }
      },
      "source": [
        "true_robustness(hidden_network, error_measure_rnu,eigenvector_robustness_calculator)"
      ],
      "execution_count": 0,
      "outputs": [
        {
          "output_type": "execute_result",
          "data": {
            "text/plain": [
              "robustness_true(mean=0.9324316708593833, sd=0.019063511534881873, values=None)"
            ]
          },
          "metadata": {
            "tags": []
          },
          "execution_count": 61
        }
      ]
    },
    {
      "cell_type": "code",
      "metadata": {
        "colab_type": "code",
        "id": "3jovH8NOKlst",
        "outputId": "219537b4-824b-44d7-ae70-8c49a0bede8b",
        "colab": {
          "base_uri": "https://localhost:8080/",
          "height": 34
        }
      },
      "source": [
        "estimate_robustness(error_measure_rnu(hidden_network), error_measure_rnu, eigenvector_robustness_calculator,)"
      ],
      "execution_count": 0,
      "outputs": [
        {
          "output_type": "execute_result",
          "data": {
            "text/plain": [
              "robustness_estimate(mean=0.934617213826352, sd=0.018324031040696947, values=None)"
            ]
          },
          "metadata": {
            "tags": []
          },
          "execution_count": 62
        }
      ]
    },
    {
      "cell_type": "code",
      "metadata": {
        "colab_type": "code",
        "id": "iRc_AkOkKlsv",
        "outputId": "b6da1f0f-2200-4def-a883-e584d8e8caf6",
        "colab": {
          "base_uri": "https://localhost:8080/",
          "height": 34
        }
      },
      "source": [
        "true_robustness(hidden_network, error_measure_rnu,pagerank_robustness_calculator)"
      ],
      "execution_count": 0,
      "outputs": [
        {
          "output_type": "execute_result",
          "data": {
            "text/plain": [
              "robustness_true(mean=0.9292232154523516, sd=0.0059903642000597125, values=None)"
            ]
          },
          "metadata": {
            "tags": []
          },
          "execution_count": 63
        }
      ]
    },
    {
      "cell_type": "code",
      "metadata": {
        "colab_type": "code",
        "id": "zEBUhHkYKls0",
        "outputId": "fbe34e59-25ab-4e8d-b4dd-bb0cfeb1643a",
        "colab": {
          "base_uri": "https://localhost:8080/",
          "height": 34
        }
      },
      "source": [
        "estimate_robustness(error_measure_rnu(hidden_network), error_measure_rnu, pagerank_robustness_calculator,)"
      ],
      "execution_count": 0,
      "outputs": [
        {
          "output_type": "execute_result",
          "data": {
            "text/plain": [
              "robustness_estimate(mean=0.93083342555535, sd=0.0065956032061427645, values=None)"
            ]
          },
          "metadata": {
            "tags": []
          },
          "execution_count": 64
        }
      ]
    },
    {
      "cell_type": "code",
      "metadata": {
        "id": "xfXLM7cD_hEk",
        "colab_type": "code",
        "outputId": "b07a582d-1828-4daf-b40a-42f5c67a8000",
        "colab": {
          "base_uri": "https://localhost:8080/",
          "height": 34
        }
      },
      "source": [
        "alpha1=alpha2\n",
        "print(alpha1)"
      ],
      "execution_count": 0,
      "outputs": [
        {
          "output_type": "stream",
          "text": [
            "0.3\n"
          ],
          "name": "stdout"
        }
      ]
    },
    {
      "cell_type": "markdown",
      "metadata": {
        "colab_type": "text",
        "id": "leX78BF6a8Td"
      },
      "source": [
        "## add_edges_random 30 500 runs\n"
      ]
    },
    {
      "cell_type": "code",
      "metadata": {
        "colab_type": "code",
        "id": "GMSGAF88a8Tg",
        "colab": {}
      },
      "source": [
        "#interaction_graph = nx.read_edgelist(\"/out.petster-friendships-hamster-uniq\", create_using = nx.Graph(), comments = \"%\")\n",
        "interaction_graph = nx.read_edgelist(\"out.petster-friendships-hamster-uniq\", create_using = nx.Graph(), comments = \"%\", nodetype=int)"
      ],
      "execution_count": 0,
      "outputs": []
    },
    {
      "cell_type": "code",
      "metadata": {
        "colab_type": "code",
        "outputId": "d3ddd7e4-58bb-47da-af84-a2ad629384b7",
        "id": "IxM4s2sPa8Tk",
        "colab": {
          "base_uri": "https://localhost:8080/",
          "height": 34
        }
      },
      "source": [
        "true_robustness(hidden_network, error_measure_aer,degree_robustness_calculator)"
      ],
      "execution_count": 0,
      "outputs": [
        {
          "output_type": "execute_result",
          "data": {
            "text/plain": [
              "robustness_true(mean=0.8531643592188435, sd=0.0034353003304243997, values=None)"
            ]
          },
          "metadata": {
            "tags": []
          },
          "execution_count": 23
        }
      ]
    },
    {
      "cell_type": "code",
      "metadata": {
        "colab_type": "code",
        "outputId": "16f1f4d0-d01e-43c8-aeae-eb50aea2b226",
        "id": "NNIKIVjUa8Tp",
        "colab": {
          "base_uri": "https://localhost:8080/",
          "height": 34
        }
      },
      "source": [
        "estimate_robustness(error_measure_aer(hidden_network), error_measure_aer, degree_robustness_calculator,)"
      ],
      "execution_count": 0,
      "outputs": [
        {
          "output_type": "execute_result",
          "data": {
            "text/plain": [
              "robustness_estimate(mean=0.8549545054576952, sd=0.003486673403026067, values=None)"
            ]
          },
          "metadata": {
            "tags": []
          },
          "execution_count": 24
        }
      ]
    },
    {
      "cell_type": "code",
      "metadata": {
        "colab_type": "code",
        "id": "1Gg8JurHa8Tu",
        "outputId": "8326f043-377f-4fd5-f1dc-c65ad5a902cc",
        "colab": {
          "base_uri": "https://localhost:8080/",
          "height": 34
        }
      },
      "source": [
        "true_robustness(hidden_network, error_measure_aer,betweenness_robustness_calculator)"
      ],
      "execution_count": 0,
      "outputs": [
        {
          "output_type": "execute_result",
          "data": {
            "text/plain": [
              "robustness_true(mean=0.6291256582593223, sd=0.006523427888039022, values=None)"
            ]
          },
          "metadata": {
            "tags": []
          },
          "execution_count": 25
        }
      ]
    },
    {
      "cell_type": "code",
      "metadata": {
        "colab_type": "code",
        "id": "8rkSoLVea8Tz",
        "outputId": "35fc638c-9b46-46e7-c491-996fefe9d1e2",
        "colab": {
          "base_uri": "https://localhost:8080/",
          "height": 34
        }
      },
      "source": [
        "estimate_robustness(error_measure_aer(hidden_network), error_measure_aer, betweenness_robustness_calculator,)"
      ],
      "execution_count": 0,
      "outputs": [
        {
          "output_type": "execute_result",
          "data": {
            "text/plain": [
              "robustness_estimate(mean=0.7307451786623244, sd=0.005241998478065331, values=None)"
            ]
          },
          "metadata": {
            "tags": []
          },
          "execution_count": 26
        }
      ]
    },
    {
      "cell_type": "code",
      "metadata": {
        "colab_type": "code",
        "id": "wtwzKNEEa8T2",
        "outputId": "c7468724-6237-4365-c085-c9523e8a64b9",
        "colab": {
          "base_uri": "https://localhost:8080/",
          "height": 34
        }
      },
      "source": [
        "true_robustness(hidden_network, error_measure_aer,centrality_robustness_calculator)"
      ],
      "execution_count": 0,
      "outputs": [
        {
          "output_type": "execute_result",
          "data": {
            "text/plain": [
              "robustness_true(mean=0.8081952330191543, sd=0.0038362965345421617, values=None)"
            ]
          },
          "metadata": {
            "tags": []
          },
          "execution_count": 27
        }
      ]
    },
    {
      "cell_type": "code",
      "metadata": {
        "colab_type": "code",
        "id": "U6mh6sWia8T5",
        "outputId": "624de6e8-ea4d-4c6c-e10d-d6ca90fbe443",
        "colab": {
          "base_uri": "https://localhost:8080/",
          "height": 34
        }
      },
      "source": [
        "estimate_robustness(error_measure_aer(hidden_network), error_measure_aer, centrality_robustness_calculator,)"
      ],
      "execution_count": 0,
      "outputs": [
        {
          "output_type": "execute_result",
          "data": {
            "text/plain": [
              "robustness_estimate(mean=0.8342705200748955, sd=0.0033680979386678587, values=None)"
            ]
          },
          "metadata": {
            "tags": []
          },
          "execution_count": 28
        }
      ]
    },
    {
      "cell_type": "code",
      "metadata": {
        "colab_type": "code",
        "id": "eiIHYYlNa8T7",
        "outputId": "3079f573-5fc9-4218-80dc-ca7cec3d7501",
        "colab": {
          "base_uri": "https://localhost:8080/",
          "height": 34
        }
      },
      "source": [
        "true_robustness(hidden_network, error_measure_aer,eigenvector_robustness_calculator)"
      ],
      "execution_count": 0,
      "outputs": [
        {
          "output_type": "execute_result",
          "data": {
            "text/plain": [
              "robustness_true(mean=0.867313244909482, sd=0.0033691335124201843, values=None)"
            ]
          },
          "metadata": {
            "tags": []
          },
          "execution_count": 29
        }
      ]
    },
    {
      "cell_type": "code",
      "metadata": {
        "colab_type": "code",
        "id": "tB1szvPAa8T9",
        "outputId": "c8701d7c-389f-4473-840f-b127edbd0f58",
        "colab": {
          "base_uri": "https://localhost:8080/",
          "height": 34
        }
      },
      "source": [
        "estimate_robustness(error_measure_aer(hidden_network), error_measure_aer, eigenvector_robustness_calculator,)"
      ],
      "execution_count": 0,
      "outputs": [
        {
          "output_type": "execute_result",
          "data": {
            "text/plain": [
              "robustness_estimate(mean=0.8677862393989265, sd=0.0032906062608151674, values=None)"
            ]
          },
          "metadata": {
            "tags": []
          },
          "execution_count": 30
        }
      ]
    },
    {
      "cell_type": "code",
      "metadata": {
        "colab_type": "code",
        "id": "2rcKEm0Ia8UA",
        "outputId": "6b34adb5-8bf5-470b-eaba-11eb0a7b55ef",
        "colab": {
          "base_uri": "https://localhost:8080/",
          "height": 34
        }
      },
      "source": [
        "true_robustness(hidden_network, error_measure_aer,pagerank_robustness_calculator)"
      ],
      "execution_count": 0,
      "outputs": [
        {
          "output_type": "execute_result",
          "data": {
            "text/plain": [
              "robustness_true(mean=0.7626136307677321, sd=0.004480611625854604, values=None)"
            ]
          },
          "metadata": {
            "tags": []
          },
          "execution_count": 31
        }
      ]
    },
    {
      "cell_type": "code",
      "metadata": {
        "colab_type": "code",
        "id": "BkXtP6c6a8UC",
        "outputId": "eaf9c3df-fb66-4dfc-8018-c8fab91580aa",
        "colab": {
          "base_uri": "https://localhost:8080/",
          "height": 34
        }
      },
      "source": [
        "estimate_robustness(error_measure_aer(hidden_network), error_measure_aer, pagerank_robustness_calculator,)"
      ],
      "execution_count": 0,
      "outputs": [
        {
          "output_type": "execute_result",
          "data": {
            "text/plain": [
              "robustness_estimate(mean=0.8022075879634519, sd=0.004001029652518447, values=None)"
            ]
          },
          "metadata": {
            "tags": []
          },
          "execution_count": 32
        }
      ]
    },
    {
      "cell_type": "markdown",
      "metadata": {
        "colab_type": "text",
        "id": "vPBgqIpELCVr"
      },
      "source": [
        "##remove_edges_uniform 30 500"
      ]
    },
    {
      "cell_type": "code",
      "metadata": {
        "colab_type": "code",
        "outputId": "50a3f500-e83e-4c68-f49a-11ece74acd6c",
        "id": "8pF7fwOeLCVs",
        "colab": {
          "base_uri": "https://localhost:8080/",
          "height": 34
        }
      },
      "source": [
        "true_robustness(hidden_network, error_measure_reu,degree_robustness_calculator)"
      ],
      "execution_count": 0,
      "outputs": [
        {
          "output_type": "execute_result",
          "data": {
            "text/plain": [
              "robustness_true(mean=0.9005783182540931, sd=0.002453714968622882, values=None)"
            ]
          },
          "metadata": {
            "tags": []
          },
          "execution_count": 35
        }
      ]
    },
    {
      "cell_type": "code",
      "metadata": {
        "id": "IYTmCV7Dskh9",
        "colab_type": "code",
        "outputId": "09e8dd30-afab-43ec-e108-d6a721e20092",
        "colab": {
          "base_uri": "https://localhost:8080/",
          "height": 34
        }
      },
      "source": [
        "#2\n",
        "true_robustness(hidden_network, error_measure_reu,degree_robustness_calculator)"
      ],
      "execution_count": 0,
      "outputs": [
        {
          "output_type": "execute_result",
          "data": {
            "text/plain": [
              "robustness_true(mean=0.900654066090216, sd=0.002449839600132441, values=None)"
            ]
          },
          "metadata": {
            "tags": []
          },
          "execution_count": 41
        }
      ]
    },
    {
      "cell_type": "code",
      "metadata": {
        "colab_type": "code",
        "outputId": "c22bdfd0-2897-41f2-903f-48a384fb0a9f",
        "id": "Mhj8IBXtLCVv",
        "colab": {
          "base_uri": "https://localhost:8080/",
          "height": 34
        }
      },
      "source": [
        "estimate_robustness(error_measure_reu(hidden_network), error_measure_reu, degree_robustness_calculator,)"
      ],
      "execution_count": 0,
      "outputs": [
        {
          "output_type": "execute_result",
          "data": {
            "text/plain": [
              "robustness_estimate(mean=0.8916232013963136, sd=0.002767840863365497, values=None)"
            ]
          },
          "metadata": {
            "tags": []
          },
          "execution_count": 42
        }
      ]
    },
    {
      "cell_type": "code",
      "metadata": {
        "colab_type": "code",
        "outputId": "93ae3a66-c159-453c-b8a4-18e1835d815b",
        "id": "m84mQzHFLCV0",
        "colab": {
          "base_uri": "https://localhost:8080/",
          "height": 34
        }
      },
      "source": [
        "true_robustness(hidden_network, error_measure_reu,betweenness_robustness_calculator)"
      ],
      "execution_count": 0,
      "outputs": [
        {
          "output_type": "execute_result",
          "data": {
            "text/plain": [
              "robustness_true(mean=0.8119379839992654, sd=0.007822577582761796, values=None)"
            ]
          },
          "metadata": {
            "tags": []
          },
          "execution_count": 43
        }
      ]
    },
    {
      "cell_type": "code",
      "metadata": {
        "colab_type": "code",
        "id": "eMfM8s25LCV2",
        "outputId": "75cb8709-5e2f-42c8-d0d1-f051063cdbc1",
        "colab": {
          "base_uri": "https://localhost:8080/",
          "height": 34
        }
      },
      "source": [
        "estimate_robustness(error_measure_reu(hidden_network), error_measure_reu, betweenness_robustness_calculator,)"
      ],
      "execution_count": 0,
      "outputs": [
        {
          "output_type": "execute_result",
          "data": {
            "text/plain": [
              "robustness_estimate(mean=0.8041100647693852, sd=0.00758827920140934, values=None)"
            ]
          },
          "metadata": {
            "tags": []
          },
          "execution_count": 44
        }
      ]
    },
    {
      "cell_type": "code",
      "metadata": {
        "colab_type": "code",
        "id": "5f_KvGOwLCV5",
        "outputId": "6b77e823-4237-4a84-960f-05c9ac162a46",
        "colab": {
          "base_uri": "https://localhost:8080/",
          "height": 34
        }
      },
      "source": [
        "true_robustness(hidden_network, error_measure_reu,centrality_robustness_calculator)"
      ],
      "execution_count": 0,
      "outputs": [
        {
          "output_type": "execute_result",
          "data": {
            "text/plain": [
              "robustness_true(mean=0.8311663213539261, sd=0.004932363118623273, values=None)"
            ]
          },
          "metadata": {
            "tags": []
          },
          "execution_count": 45
        }
      ]
    },
    {
      "cell_type": "code",
      "metadata": {
        "colab_type": "code",
        "id": "WmzCSQHVLCV6",
        "outputId": "3189b78c-97a3-4510-c569-7059a98a5443",
        "colab": {
          "base_uri": "https://localhost:8080/",
          "height": 34
        }
      },
      "source": [
        "estimate_robustness(error_measure_reu(hidden_network), error_measure_reu, centrality_robustness_calculator,)"
      ],
      "execution_count": 0,
      "outputs": [
        {
          "output_type": "execute_result",
          "data": {
            "text/plain": [
              "robustness_estimate(mean=0.8239038741643954, sd=0.004820895698923616, values=None)"
            ]
          },
          "metadata": {
            "tags": []
          },
          "execution_count": 46
        }
      ]
    },
    {
      "cell_type": "code",
      "metadata": {
        "colab_type": "code",
        "id": "AeTO72JqLCV9",
        "outputId": "3b8b9fbc-8f19-4d11-a436-58a8aa3ef975",
        "colab": {
          "base_uri": "https://localhost:8080/",
          "height": 34
        }
      },
      "source": [
        "true_robustness(hidden_network, error_measure_reu,eigenvector_robustness_calculator)"
      ],
      "execution_count": 0,
      "outputs": [
        {
          "output_type": "execute_result",
          "data": {
            "text/plain": [
              "robustness_true(mean=0.8502252828071785, sd=0.004024945559188083, values=None)"
            ]
          },
          "metadata": {
            "tags": []
          },
          "execution_count": 47
        }
      ]
    },
    {
      "cell_type": "code",
      "metadata": {
        "colab_type": "code",
        "id": "ZnjogDTILCWC",
        "outputId": "b2ed0b80-ca12-4f69-8a4f-3224a2d08eb9",
        "colab": {
          "base_uri": "https://localhost:8080/",
          "height": 34
        }
      },
      "source": [
        "estimate_robustness(error_measure_reu(hidden_network), error_measure_reu, eigenvector_robustness_calculator,)"
      ],
      "execution_count": 0,
      "outputs": [
        {
          "output_type": "execute_result",
          "data": {
            "text/plain": [
              "robustness_estimate(mean=0.8360500415759239, sd=0.004735465847592928, values=None)"
            ]
          },
          "metadata": {
            "tags": []
          },
          "execution_count": 48
        }
      ]
    },
    {
      "cell_type": "code",
      "metadata": {
        "colab_type": "code",
        "id": "nUYIMzcpLCWE",
        "outputId": "ff0a69dd-532f-41ea-94e2-2f2ba8d908b6",
        "colab": {
          "base_uri": "https://localhost:8080/",
          "height": 34
        }
      },
      "source": [
        "true_robustness(hidden_network, error_measure_reu,pagerank_robustness_calculator)"
      ],
      "execution_count": 0,
      "outputs": [
        {
          "output_type": "execute_result",
          "data": {
            "text/plain": [
              "robustness_true(mean=0.840335988808296, sd=0.0041709787762109945, values=None)"
            ]
          },
          "metadata": {
            "tags": []
          },
          "execution_count": 49
        }
      ]
    },
    {
      "cell_type": "code",
      "metadata": {
        "colab_type": "code",
        "id": "qDCoPXPELCWH",
        "outputId": "048bd917-adcc-4702-f8bb-9d32c7e3f24e",
        "colab": {
          "base_uri": "https://localhost:8080/",
          "height": 34
        }
      },
      "source": [
        "estimate_robustness(error_measure_reu(hidden_network), error_measure_reu, pagerank_robustness_calculator,)"
      ],
      "execution_count": 0,
      "outputs": [
        {
          "output_type": "execute_result",
          "data": {
            "text/plain": [
              "robustness_estimate(mean=0.8246300793946962, sd=0.004562223391188178, values=None)"
            ]
          },
          "metadata": {
            "tags": []
          },
          "execution_count": 50
        }
      ]
    },
    {
      "cell_type": "markdown",
      "metadata": {
        "colab_type": "text",
        "id": "dcqaFLm4LCWJ"
      },
      "source": [
        "## remove_edges_proportional_degree 30 500 runs\n"
      ]
    },
    {
      "cell_type": "code",
      "metadata": {
        "colab_type": "code",
        "id": "OdqcAEUTLCWK",
        "outputId": "6bff61ea-66c7-42f2-c9ec-6a7b946443c5",
        "colab": {
          "base_uri": "https://localhost:8080/",
          "height": 34
        }
      },
      "source": [
        "true_robustness(hidden_network, error_measure_repd,degree_robustness_calculator)"
      ],
      "execution_count": 0,
      "outputs": [
        {
          "output_type": "execute_result",
          "data": {
            "text/plain": [
              "robustness_true(mean=0.9198434391081556, sd=0.0020460634580426336, values=None)"
            ]
          },
          "metadata": {
            "tags": []
          },
          "execution_count": 51
        }
      ]
    },
    {
      "cell_type": "code",
      "metadata": {
        "colab_type": "code",
        "id": "N7Cyi7edLCWN",
        "outputId": "b3fce512-d24e-4fb1-c0e2-59eafb5ce1d8",
        "colab": {
          "base_uri": "https://localhost:8080/",
          "height": 34
        }
      },
      "source": [
        "estimate_robustness(error_measure_repd(hidden_network), error_measure_repd, degree_robustness_calculator,)"
      ],
      "execution_count": 0,
      "outputs": [
        {
          "output_type": "execute_result",
          "data": {
            "text/plain": [
              "robustness_estimate(mean=0.9089310872572858, sd=0.002361874577655201, values=None)"
            ]
          },
          "metadata": {
            "tags": []
          },
          "execution_count": 52
        }
      ]
    },
    {
      "cell_type": "code",
      "metadata": {
        "colab_type": "code",
        "id": "39PlNb4lLCWQ",
        "outputId": "ee296c19-95aa-49ff-e0a3-433f23d49ee7",
        "colab": {
          "base_uri": "https://localhost:8080/",
          "height": 34
        }
      },
      "source": [
        "true_robustness(hidden_network, error_measure_repd,betweenness_robustness_calculator)"
      ],
      "execution_count": 0,
      "outputs": [
        {
          "output_type": "execute_result",
          "data": {
            "text/plain": [
              "robustness_true(mean=0.8630177129499387, sd=0.005424805315856344, values=None)"
            ]
          },
          "metadata": {
            "tags": []
          },
          "execution_count": 53
        }
      ]
    },
    {
      "cell_type": "code",
      "metadata": {
        "colab_type": "code",
        "id": "UyxANB1aLCWS",
        "outputId": "fb7def0e-1e04-4840-f0dd-5b6f922ed07c",
        "colab": {
          "base_uri": "https://localhost:8080/",
          "height": 34
        }
      },
      "source": [
        "estimate_robustness(error_measure_repd(hidden_network), error_measure_repd, betweenness_robustness_calculator,)"
      ],
      "execution_count": 0,
      "outputs": [
        {
          "output_type": "execute_result",
          "data": {
            "text/plain": [
              "robustness_estimate(mean=0.8448354194780209, sd=0.006597280513660184, values=None)"
            ]
          },
          "metadata": {
            "tags": []
          },
          "execution_count": 54
        }
      ]
    },
    {
      "cell_type": "code",
      "metadata": {
        "colab_type": "code",
        "id": "3xPu6aZYLCWV",
        "outputId": "12302b3a-d8ed-46cc-d3a8-bbeeb9e68c69",
        "colab": {
          "base_uri": "https://localhost:8080/",
          "height": 34
        }
      },
      "source": [
        "true_robustness(hidden_network, error_measure_repd,centrality_robustness_calculator)"
      ],
      "execution_count": 0,
      "outputs": [
        {
          "output_type": "execute_result",
          "data": {
            "text/plain": [
              "robustness_true(mean=0.7910096429575388, sd=0.004965659145106076, values=None)"
            ]
          },
          "metadata": {
            "tags": []
          },
          "execution_count": 55
        }
      ]
    },
    {
      "cell_type": "code",
      "metadata": {
        "colab_type": "code",
        "id": "zn7fKbjZLCWW",
        "outputId": "ba756b7c-90f3-4a8b-c339-4bb62ea76363",
        "colab": {
          "base_uri": "https://localhost:8080/",
          "height": 34
        }
      },
      "source": [
        "estimate_robustness(error_measure_repd(hidden_network), error_measure_repd, centrality_robustness_calculator,)"
      ],
      "execution_count": 0,
      "outputs": [
        {
          "output_type": "execute_result",
          "data": {
            "text/plain": [
              "robustness_estimate(mean=0.8045900492761235, sd=0.004545708325106268, values=None)"
            ]
          },
          "metadata": {
            "tags": []
          },
          "execution_count": 56
        }
      ]
    },
    {
      "cell_type": "code",
      "metadata": {
        "colab_type": "code",
        "id": "McBCe2PjLCWZ",
        "outputId": "82f9113f-ef48-4adf-8054-0525df15f946",
        "colab": {
          "base_uri": "https://localhost:8080/",
          "height": 34
        }
      },
      "source": [
        "true_robustness(hidden_network, error_measure_repd,eigenvector_robustness_calculator)"
      ],
      "execution_count": 0,
      "outputs": [
        {
          "output_type": "execute_result",
          "data": {
            "text/plain": [
              "robustness_true(mean=0.8138515621376744, sd=0.00562539644646531, values=None)"
            ]
          },
          "metadata": {
            "tags": []
          },
          "execution_count": 57
        }
      ]
    },
    {
      "cell_type": "code",
      "metadata": {
        "colab_type": "code",
        "id": "E2gOChm1LCWb",
        "outputId": "e026de4e-ca6b-4f1e-88cd-ef8bfe85c49b",
        "colab": {
          "base_uri": "https://localhost:8080/",
          "height": 34
        }
      },
      "source": [
        "estimate_robustness(error_measure_repd(hidden_network), error_measure_repd, eigenvector_robustness_calculator,)"
      ],
      "execution_count": 0,
      "outputs": [
        {
          "output_type": "execute_result",
          "data": {
            "text/plain": [
              "robustness_estimate(mean=0.8187595843771505, sd=0.005519623754446039, values=None)"
            ]
          },
          "metadata": {
            "tags": []
          },
          "execution_count": 58
        }
      ]
    },
    {
      "cell_type": "code",
      "metadata": {
        "colab_type": "code",
        "id": "aR6_dad9LCWe",
        "outputId": "bf7b781f-8569-4b2f-a343-0a4a70124a81",
        "colab": {
          "base_uri": "https://localhost:8080/",
          "height": 34
        }
      },
      "source": [
        "true_robustness(hidden_network, error_measure_repd,pagerank_robustness_calculator)"
      ],
      "execution_count": 0,
      "outputs": [
        {
          "output_type": "execute_result",
          "data": {
            "text/plain": [
              "robustness_true(mean=0.8916874800923593, sd=0.0025367869980571917, values=None)"
            ]
          },
          "metadata": {
            "tags": []
          },
          "execution_count": 59
        }
      ]
    },
    {
      "cell_type": "code",
      "metadata": {
        "colab_type": "code",
        "id": "e-v34fypLCWh",
        "outputId": "4c8a72df-618d-4e1d-91c3-e69a7a71af43",
        "colab": {
          "base_uri": "https://localhost:8080/",
          "height": 34
        }
      },
      "source": [
        "estimate_robustness(error_measure_repd(hidden_network), error_measure_repd, pagerank_robustness_calculator,)"
      ],
      "execution_count": 0,
      "outputs": [
        {
          "output_type": "execute_result",
          "data": {
            "text/plain": [
              "robustness_estimate(mean=0.8727795106416952, sd=0.0028380910414082363, values=None)"
            ]
          },
          "metadata": {
            "tags": []
          },
          "execution_count": 60
        }
      ]
    },
    {
      "cell_type": "markdown",
      "metadata": {
        "colab_type": "text",
        "id": "g-GrCtE_LCWi"
      },
      "source": [
        "## remove_nodes_uniform 30 500 runs"
      ]
    },
    {
      "cell_type": "code",
      "metadata": {
        "colab_type": "code",
        "id": "OTyqMcLhLCWi",
        "outputId": "39d3ce5c-6439-4697-c723-8249f43f6c2e",
        "colab": {
          "base_uri": "https://localhost:8080/",
          "height": 34
        }
      },
      "source": [
        "true_robustness(hidden_network, error_measure_rnu,degree_robustness_calculator)"
      ],
      "execution_count": 0,
      "outputs": [
        {
          "output_type": "execute_result",
          "data": {
            "text/plain": [
              "robustness_true(mean=0.9015503721912091, sd=0.009144234179107032, values=None)"
            ]
          },
          "metadata": {
            "tags": []
          },
          "execution_count": 61
        }
      ]
    },
    {
      "cell_type": "code",
      "metadata": {
        "colab_type": "code",
        "id": "3TSQKWB7LCWn",
        "outputId": "0e071ae5-1b9d-44a1-cd8e-cd55144d0bfa",
        "colab": {
          "base_uri": "https://localhost:8080/",
          "height": 34
        }
      },
      "source": [
        "estimate_robustness(error_measure_rnu(hidden_network), error_measure_rnu, degree_robustness_calculator,)"
      ],
      "execution_count": 0,
      "outputs": [
        {
          "output_type": "execute_result",
          "data": {
            "text/plain": [
              "robustness_estimate(mean=0.8953062434787139, sd=0.010613946800134794, values=None)"
            ]
          },
          "metadata": {
            "tags": []
          },
          "execution_count": 62
        }
      ]
    },
    {
      "cell_type": "code",
      "metadata": {
        "colab_type": "code",
        "id": "8GOSc_6gLCWo",
        "outputId": "187ab86e-df19-431a-eae8-40ea9ce7171e",
        "colab": {
          "base_uri": "https://localhost:8080/",
          "height": 34
        }
      },
      "source": [
        "true_robustness(hidden_network, error_measure_rnu,betweenness_robustness_calculator)"
      ],
      "execution_count": 0,
      "outputs": [
        {
          "output_type": "execute_result",
          "data": {
            "text/plain": [
              "robustness_true(mean=0.8227528716008197, sd=0.015028984887349424, values=None)"
            ]
          },
          "metadata": {
            "tags": []
          },
          "execution_count": 63
        }
      ]
    },
    {
      "cell_type": "code",
      "metadata": {
        "colab_type": "code",
        "id": "ygK7TQHOLCWq",
        "outputId": "eb239b49-be3c-405d-fe3b-4a894bb3c3ad",
        "colab": {
          "base_uri": "https://localhost:8080/",
          "height": 34
        }
      },
      "source": [
        "estimate_robustness(error_measure_rnu(hidden_network), error_measure_rnu, betweenness_robustness_calculator,)"
      ],
      "execution_count": 0,
      "outputs": [
        {
          "output_type": "execute_result",
          "data": {
            "text/plain": [
              "robustness_estimate(mean=0.8263853422277084, sd=0.015905608279603557, values=None)"
            ]
          },
          "metadata": {
            "tags": []
          },
          "execution_count": 64
        }
      ]
    },
    {
      "cell_type": "code",
      "metadata": {
        "colab_type": "code",
        "id": "9zM49XnvLCWr",
        "outputId": "3b7eaeb0-bcb5-4054-e556-300620e14b60",
        "colab": {
          "base_uri": "https://localhost:8080/",
          "height": 34
        }
      },
      "source": [
        "true_robustness(hidden_network, error_measure_rnu,centrality_robustness_calculator)"
      ],
      "execution_count": 0,
      "outputs": [
        {
          "output_type": "execute_result",
          "data": {
            "text/plain": [
              "robustness_true(mean=0.8387538662304656, sd=0.03296738334513333, values=None)"
            ]
          },
          "metadata": {
            "tags": []
          },
          "execution_count": 65
        }
      ]
    },
    {
      "cell_type": "code",
      "metadata": {
        "colab_type": "code",
        "id": "wJOwIFZJLCWs",
        "outputId": "8f2d7eaf-ccd3-42a8-8c6d-3558d387821a",
        "colab": {
          "base_uri": "https://localhost:8080/",
          "height": 34
        }
      },
      "source": [
        "estimate_robustness(error_measure_rnu(hidden_network), error_measure_rnu, centrality_robustness_calculator,)"
      ],
      "execution_count": 0,
      "outputs": [
        {
          "output_type": "execute_result",
          "data": {
            "text/plain": [
              "robustness_estimate(mean=0.8197226871866377, sd=0.04461114083651261, values=None)"
            ]
          },
          "metadata": {
            "tags": []
          },
          "execution_count": 66
        }
      ]
    },
    {
      "cell_type": "code",
      "metadata": {
        "colab_type": "code",
        "id": "X41oXy4SLCWy",
        "outputId": "d9721e61-dbaf-41d3-a7c9-136da9b4a617",
        "colab": {
          "base_uri": "https://localhost:8080/",
          "height": 34
        }
      },
      "source": [
        "true_robustness(hidden_network, error_measure_rnu,eigenvector_robustness_calculator)"
      ],
      "execution_count": 0,
      "outputs": [
        {
          "output_type": "execute_result",
          "data": {
            "text/plain": [
              "robustness_true(mean=0.8467215741514384, sd=0.025134839394401802, values=None)"
            ]
          },
          "metadata": {
            "tags": []
          },
          "execution_count": 67
        }
      ]
    },
    {
      "cell_type": "code",
      "metadata": {
        "colab_type": "code",
        "id": "uDMmkuOELCWz",
        "outputId": "d1ee516c-4814-47bd-d3ae-1a9b1a48fbe9",
        "colab": {
          "base_uri": "https://localhost:8080/",
          "height": 34
        }
      },
      "source": [
        "estimate_robustness(error_measure_rnu(hidden_network), error_measure_rnu, eigenvector_robustness_calculator,)"
      ],
      "execution_count": 0,
      "outputs": [
        {
          "output_type": "execute_result",
          "data": {
            "text/plain": [
              "robustness_estimate(mean=0.8415432478872881, sd=0.028662251580990047, values=None)"
            ]
          },
          "metadata": {
            "tags": []
          },
          "execution_count": 68
        }
      ]
    },
    {
      "cell_type": "code",
      "metadata": {
        "colab_type": "code",
        "id": "UqKhui-uLCW0",
        "outputId": "295fef07-7e4d-4d84-86b4-1fad13107739",
        "colab": {
          "base_uri": "https://localhost:8080/",
          "height": 34
        }
      },
      "source": [
        "true_robustness(hidden_network, error_measure_rnu,pagerank_robustness_calculator)"
      ],
      "execution_count": 0,
      "outputs": [
        {
          "output_type": "execute_result",
          "data": {
            "text/plain": [
              "robustness_true(mean=0.8468938720787517, sd=0.009041562931487846, values=None)"
            ]
          },
          "metadata": {
            "tags": []
          },
          "execution_count": 69
        }
      ]
    },
    {
      "cell_type": "code",
      "metadata": {
        "colab_type": "code",
        "id": "_Nh1cgg4LCW1",
        "outputId": "ac3cdaed-751b-4f80-96b0-4993b41555cd",
        "colab": {
          "base_uri": "https://localhost:8080/",
          "height": 34
        }
      },
      "source": [
        "estimate_robustness(error_measure_rnu(hidden_network), error_measure_rnu, pagerank_robustness_calculator,)"
      ],
      "execution_count": 0,
      "outputs": [
        {
          "output_type": "execute_result",
          "data": {
            "text/plain": [
              "robustness_estimate(mean=0.8249760630595356, sd=0.013025849269846259, values=None)"
            ]
          },
          "metadata": {
            "tags": []
          },
          "execution_count": 70
        }
      ]
    }
  ]
}
